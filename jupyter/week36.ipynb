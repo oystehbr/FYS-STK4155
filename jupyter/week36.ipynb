{
 "cells": [
  {
   "cell_type": "markdown",
   "metadata": {},
   "source": [
    "<!-- dom:TITLE: Week 36: Statistical interpretation of Linear Regression and Resampling techniques -->\n",
    "# Week 36: Statistical interpretation of Linear Regression and Resampling techniques\n",
    "<!-- dom:AUTHOR: Morten Hjorth-Jensen at Department of Physics, University of Oslo & Department of Physics and Astronomy and National Superconducting Cyclotron Laboratory, Michigan State University -->\n",
    "<!-- Author: -->  \n",
    "**Morten Hjorth-Jensen**, Department of Physics, University of Oslo and Department of Physics and Astronomy and National Superconducting Cyclotron Laboratory, Michigan State University\n",
    "\n",
    "Date: **Sep 16, 2021**\n",
    "\n",
    "Copyright 1999-2021, Morten Hjorth-Jensen. Released under CC Attribution-NonCommercial 4.0 license\n",
    "\n",
    "\n",
    "\n",
    "\n",
    "## Plans for week 36\n",
    "\n",
    "* Thursday: Summary from last week on SVD, Statistics, probability theory and linear regression. [Video of Lecture](https://www.uio.no/studier/emner/matnat/fys/FYS-STK3155/h21/forelesningsvideoer/LectureSeptember9.mp4?vrtx=view-as-webpage).\n",
    "\n",
    "* Friday: Linear Regression and links with Statistics, Resampling methods and presentation of first project. [Video of Lecture](https://www.uio.no/studier/emner/matnat/fys/FYS-STK4155/h21/forelesningsvideoer/LectureSeptember10.mp4?vrtx=view-as-webpage)\n",
    "\n",
    "Recommended Reading:\n",
    "1. Lectures on Regression\n",
    "\n",
    "2. Bishop 1.1, 1.2, 2.1, 2.2, 2.3 and 3.1\n",
    "\n",
    "3. Hastie et al chapter 3\n",
    "\n",
    "## Thursday September 9\n",
    "\n",
    "\n",
    "## Summary from last Week and Examples\n",
    "\n",
    "## Linear Regression and  the SVD\n",
    "\n",
    "We used the SVD to analyse the matrix to invert in ordinary lineat regression"
   ]
  },
  {
   "cell_type": "markdown",
   "metadata": {},
   "source": [
    "$$\n",
    "\\boldsymbol{X}^T\\boldsymbol{X}=\\boldsymbol{V}\\boldsymbol{\\Sigma}^T\\boldsymbol{U}^T\\boldsymbol{U}\\boldsymbol{\\Sigma}\\boldsymbol{V}^T=\\boldsymbol{V}\\boldsymbol{\\Sigma}^T\\boldsymbol{\\Sigma}\\boldsymbol{V}^T.\n",
    "$$"
   ]
  },
  {
   "cell_type": "markdown",
   "metadata": {},
   "source": [
    "Since the matrices here have dimension $p\\times p$, with $p$ corresponding to the singular values, we defined last week the matrix"
   ]
  },
  {
   "cell_type": "markdown",
   "metadata": {},
   "source": [
    "$$\n",
    "\\boldsymbol{\\Sigma}^T\\boldsymbol{\\Sigma} = \\begin{bmatrix} \\tilde{\\boldsymbol{\\Sigma}} & \\boldsymbol{0}\\\\ \\end{bmatrix}\\begin{bmatrix} \\tilde{\\boldsymbol{\\Sigma}} \\\\ \\boldsymbol{0}\\end{bmatrix},\n",
    "$$"
   ]
  },
  {
   "cell_type": "markdown",
   "metadata": {},
   "source": [
    "where the tilde-matrix $\\tilde{\\boldsymbol{\\Sigma}}$ is a matrix of dimension $p\\times p$ containing only the singular values $\\sigma_i$, that is"
   ]
  },
  {
   "cell_type": "markdown",
   "metadata": {},
   "source": [
    "$$\n",
    "\\tilde{\\boldsymbol{\\Sigma}}=\\begin{bmatrix} \\sigma_0 & 0 & 0 & \\dots & 0 & 0 \\\\\n",
    "                                    0 & \\sigma_1 & 0 & \\dots & 0 & 0 \\\\\n",
    "\t\t\t\t    0 & 0 & \\sigma_2 & \\dots & 0 & 0 \\\\\n",
    "\t\t\t\t    0 & 0 & 0 & \\dots & \\sigma_{p-2} & 0 \\\\\n",
    "\t\t\t\t    0 & 0 & 0 & \\dots & 0 & \\sigma_{p-1} \\\\\n",
    "\\end{bmatrix},\n",
    "$$"
   ]
  },
  {
   "cell_type": "markdown",
   "metadata": {},
   "source": [
    "meaning we can write"
   ]
  },
  {
   "cell_type": "markdown",
   "metadata": {},
   "source": [
    "$$\n",
    "\\boldsymbol{X}^T\\boldsymbol{X}=\\boldsymbol{V}\\tilde{\\boldsymbol{\\Sigma}}^2\\boldsymbol{V}^T.\n",
    "$$"
   ]
  },
  {
   "cell_type": "markdown",
   "metadata": {},
   "source": [
    "Multiplying from the right with $\\boldsymbol{V}$ (using the orthogonality of $\\boldsymbol{V}$) we get"
   ]
  },
  {
   "cell_type": "markdown",
   "metadata": {},
   "source": [
    "$$\n",
    "\\left(\\boldsymbol{X}^T\\boldsymbol{X}\\right)\\boldsymbol{V}=\\boldsymbol{V}\\tilde{\\boldsymbol{\\Sigma}}^2.\n",
    "$$"
   ]
  },
  {
   "cell_type": "markdown",
   "metadata": {},
   "source": [
    "## What does it mean?\n",
    "\n",
    "This means the vectors $\\boldsymbol{v}_i$ of the orthogonal matrix $\\boldsymbol{V}$\n",
    "are the eigenvectors of the matrix $\\boldsymbol{X}^T\\boldsymbol{X}$ with eigenvalues\n",
    "given by the singular values squared, that is"
   ]
  },
  {
   "cell_type": "markdown",
   "metadata": {},
   "source": [
    "$$\n",
    "\\left(\\boldsymbol{X}^T\\boldsymbol{X}\\right)\\boldsymbol{v}_i=\\boldsymbol{v}_i\\sigma_i^2.\n",
    "$$"
   ]
  },
  {
   "cell_type": "markdown",
   "metadata": {},
   "source": [
    "In other words, each non-zero singular value of $\\boldsymbol{X}$ is a positive\n",
    "square root of an eigenvalue of $\\boldsymbol{X}^T\\boldsymbol{X}$.  It means also that\n",
    "the columns of $\\boldsymbol{V}$ are the eigenvectors of\n",
    "$\\boldsymbol{X}^T\\boldsymbol{X}$. Since we have ordered the singular values of\n",
    "$\\boldsymbol{X}$ in a descending order, it means that the column vectors\n",
    "$\\boldsymbol{v}_i$ are hierarchically ordered by how much correlation they\n",
    "encode from the columns of $\\boldsymbol{X}$. \n",
    "\n",
    "\n",
    "Note that these are also the eigenvectors and eigenvalues of the\n",
    "Hessian matrix.\n",
    "\n",
    "If we now recall the definition of the covariance matrix (not using\n",
    "Bessel's correction) we have"
   ]
  },
  {
   "cell_type": "markdown",
   "metadata": {},
   "source": [
    "$$\n",
    "\\boldsymbol{C}[\\boldsymbol{X}]=\\frac{1}{n}\\boldsymbol{X}^T\\boldsymbol{X},\n",
    "$$"
   ]
  },
  {
   "cell_type": "markdown",
   "metadata": {},
   "source": [
    "meaning that every squared non-singular value of $\\boldsymbol{X}$ divided by $n$ (\n",
    "the number of samples) are the eigenvalues of the covariance\n",
    "matrix. Every singular value of $\\boldsymbol{X}$ is thus a positive square\n",
    "root of an eigenvalue of $\\boldsymbol{X}^T\\boldsymbol{X}$. If the matrix $\\boldsymbol{X}$ is\n",
    "self-adjoint, the singular values of $\\boldsymbol{X}$ are equal to the\n",
    "absolute value of the eigenvalues of $\\boldsymbol{X}$.\n",
    "\n",
    "## And finally  $\\boldsymbol{X}\\boldsymbol{X}^T$\n",
    "\n",
    "For $\\boldsymbol{X}\\boldsymbol{X}^T$ we found"
   ]
  },
  {
   "cell_type": "markdown",
   "metadata": {},
   "source": [
    "$$\n",
    "\\boldsymbol{X}\\boldsymbol{X}^T=\\boldsymbol{U}\\boldsymbol{\\Sigma}\\boldsymbol{V}^T\\boldsymbol{V}\\boldsymbol{\\Sigma}^T\\boldsymbol{U}^T=\\boldsymbol{U}\\boldsymbol{\\Sigma}^T\\boldsymbol{\\Sigma}\\boldsymbol{U}^T.\n",
    "$$"
   ]
  },
  {
   "cell_type": "markdown",
   "metadata": {},
   "source": [
    "Since the matrices here have dimension $n\\times n$, we have"
   ]
  },
  {
   "cell_type": "markdown",
   "metadata": {},
   "source": [
    "$$\n",
    "\\boldsymbol{\\Sigma}\\boldsymbol{\\Sigma}^T = \\begin{bmatrix} \\tilde{\\boldsymbol{\\Sigma}} \\\\ \\boldsymbol{0}\\\\ \\end{bmatrix}\\begin{bmatrix} \\tilde{\\boldsymbol{\\Sigma}}  \\boldsymbol{0}\\\\ \\end{bmatrix}=\\begin{bmatrix} \\tilde{\\boldsymbol{\\Sigma}} & \\boldsymbol{0} \\\\ \\boldsymbol{0} & \\boldsymbol{0}\\\\ \\end{bmatrix},\n",
    "$$"
   ]
  },
  {
   "cell_type": "markdown",
   "metadata": {},
   "source": [
    "leading to"
   ]
  },
  {
   "cell_type": "markdown",
   "metadata": {},
   "source": [
    "$$\n",
    "\\boldsymbol{X}\\boldsymbol{X}^T=\\boldsymbol{U}\\begin{bmatrix} \\tilde{\\boldsymbol{\\Sigma}} & \\boldsymbol{0} \\\\ \\boldsymbol{0} & \\boldsymbol{0}\\\\ \\end{bmatrix}\\boldsymbol{U}^T.\n",
    "$$"
   ]
  },
  {
   "cell_type": "markdown",
   "metadata": {},
   "source": [
    "Multiplying with $\\boldsymbol{U}$ from the right gives us the eigenvalue problem"
   ]
  },
  {
   "cell_type": "markdown",
   "metadata": {},
   "source": [
    "$$\n",
    "(\\boldsymbol{X}\\boldsymbol{X}^T)\\boldsymbol{U}=\\boldsymbol{U}\\begin{bmatrix} \\tilde{\\boldsymbol{\\Sigma}} & \\boldsymbol{0} \\\\ \\boldsymbol{0} & \\boldsymbol{0}\\\\ \\end{bmatrix}.\n",
    "$$"
   ]
  },
  {
   "cell_type": "markdown",
   "metadata": {},
   "source": [
    "It means that the eigenvalues of $\\boldsymbol{X}\\boldsymbol{X}^T$ are again given by\n",
    "the non-zero singular values plus now a series of zeros.  The column\n",
    "vectors of $\\boldsymbol{U}$ are the eigenvectors of $\\boldsymbol{X}\\boldsymbol{X}^T$ and\n",
    "measure how much correlations are contained in the rows of $\\boldsymbol{X}$.\n",
    "\n",
    "Since we will mainly be interested in the correlations among the features\n",
    "of our data (the columns of $\\boldsymbol{X}$, the quantity of interest for us are the non-zero singular\n",
    "values and the column vectors of $\\boldsymbol{V}$.\n",
    "\n",
    "\n",
    "\n",
    "## Code for SVD and Inversion of Matrices\n",
    "\n",
    "How do we use the SVD to invert a matrix $\\boldsymbol{X}^\\boldsymbol{X}$ which is singular or near singular?\n",
    "The simple answer is to use the linear algebra function for pseudoinvers, that is"
   ]
  },
  {
   "cell_type": "code",
   "execution_count": null,
   "metadata": {},
   "outputs": [],
   "source": [
    "Ainv = np.linlag.pinv(A)"
   ]
  },
  {
   "cell_type": "markdown",
   "metadata": {},
   "source": [
    "Let us first look at a matrix which does not causes problems and write our own function where we just use the SVD."
   ]
  },
  {
   "cell_type": "code",
   "execution_count": null,
   "metadata": {},
   "outputs": [],
   "source": [
    "import numpy as np\n",
    "# SVD inversion\n",
    "def SVDinv(A):\n",
    "    ''' Takes as input a numpy matrix A and returns inv(A) based on singular value decomposition (SVD).\n",
    "    SVD is numerically more stable than the inversion algorithms provided by\n",
    "    numpy and scipy.linalg at the cost of being slower.\n",
    "    '''\n",
    "    U, s, VT = np.linalg.svd(A)\n",
    "    print('test U')\n",
    "    print( (np.transpose(U) @ U - U @np.transpose(U)))\n",
    "    print('test VT')\n",
    "    print( (np.transpose(VT) @ VT - VT @np.transpose(VT)))\n",
    "\n",
    "\n",
    "    D = np.zeros((len(U),len(VT)))\n",
    "    D = np.diag(s)\n",
    "    UT = np.transpose(U); V = np.transpose(VT); invD = np.linalg.inv(D)\n",
    "    return np.matmul(V,np.matmul(invD,UT))\n",
    "\n",
    "\n",
    "#X = np.array([ [1.0, -1.0, 2.0], [1.0, 0.0, 1.0], [1.0, 2.0, -1.0], [1.0, 1.0, 0.0] ])\n",
    "# Non-singular square matrix\n",
    "X = np.array( [ [1,2,3],[2,4,5],[3,5,6]])\n",
    "print(X)\n",
    "A = np.transpose(X) @ X\n",
    "# Brute force inversion\n",
    "B = np.linalg.inv(A)  # here we could use np.linalg.pinv(A)\n",
    "C = SVDinv(A)\n",
    "print(np.abs(B-C))"
   ]
  },
  {
   "cell_type": "markdown",
   "metadata": {},
   "source": [
    "## Inverse of Rectangular Matrix\n",
    "\n",
    "Although our matrix to invert $\\boldsymbol{X}^T\\boldsymbol{X}$ is a square matrix, our matrix may be singular. \n",
    "\n",
    "The pseudoinverse is the generalization of the matrix inverse for square matrices to\n",
    "rectangular matrices where the number of rows and columns are not equal.\n",
    "\n",
    "It is also called the the Moore-Penrose Inverse after two independent discoverers of the method or the Generalized Inverse.\n",
    "It is used for the calculation of the inverse for singular or near singular matrices and for rectangular matrices.\n",
    "\n",
    "Using the SVD we can obtain the pseudoinverse of a matrix $\\boldsymbol{A}$ (labeled here as $\\boldsymbol{A}_{\\mathrm{PI}}$)"
   ]
  },
  {
   "cell_type": "markdown",
   "metadata": {},
   "source": [
    "$$\n",
    "\\boldsymbol{A}_{\\mathrm{PI}}= \\boldsymbol{V}\\boldsymbol{D}_{\\mathrm{PI}}\\boldsymbol{U}^T,\n",
    "$$"
   ]
  },
  {
   "cell_type": "markdown",
   "metadata": {},
   "source": [
    "where $\\boldsymbol{D}_{\\mathrm{PI}}$ can be calculated by creating a diagonal matrix from $\\boldsymbol{\\Sigma}$ where we only keep the singular values (the non-zero values). The following code computes the pseudoinvers of the matrix based on the SVD."
   ]
  },
  {
   "cell_type": "code",
   "execution_count": null,
   "metadata": {},
   "outputs": [],
   "source": [
    "import numpy as np\n",
    "# SVD inversion\n",
    "def SVDinv(A):\n",
    "    U, s, VT = np.linalg.svd(A)\n",
    "    # reciprocals of singular values of s\n",
    "    d = 1.0 / s\n",
    "    # create m x n D matrix\n",
    "    D = np.zeros(A.shape)\n",
    "    # populate D with n x n diagonal matrix\n",
    "    D[:A.shape[1], :A.shape[1]] = np.diag(d)\n",
    "    UT = np.transpose(U)\n",
    "    V = np.transpose(VT)\n",
    "    return np.matmul(V,np.matmul(D.T,UT))\n",
    "\n",
    "\n",
    "A = np.array([ [0.3, 0.4], [0.5, 0.6], [0.7, 0.8],[0.9, 1.0]])\n",
    "print(A)\n",
    "# Brute force inversion of super-collinear matrix\n",
    "B = np.linalg.pinv(A)\n",
    "print(B)\n",
    "# Compare our own algorithm with pinv\n",
    "C = SVDinv(A)\n",
    "print(np.abs(C-B))"
   ]
  },
  {
   "cell_type": "markdown",
   "metadata": {},
   "source": [
    "As you can see from this example, our own decomposition based on the SVD agrees the pseudoinverse algorithm provided by **Numpy**.\n",
    "\n",
    "\n",
    "\n",
    "## Ridge and LASSO Regression\n",
    "\n",
    "Let us remind ourselves about the expression for the standard Mean Squared Error (MSE) which we used to define our cost function and the equations for the ordinary least squares (OLS) method, that is \n",
    "our optimization problem is"
   ]
  },
  {
   "cell_type": "markdown",
   "metadata": {},
   "source": [
    "$$\n",
    "{\\displaystyle \\min_{\\boldsymbol{\\beta}\\in {\\mathbb{R}}^{p}}}\\frac{1}{n}\\left\\{\\left(\\boldsymbol{y}-\\boldsymbol{X}\\boldsymbol{\\beta}\\right)^T\\left(\\boldsymbol{y}-\\boldsymbol{X}\\boldsymbol{\\beta}\\right)\\right\\}.\n",
    "$$"
   ]
  },
  {
   "cell_type": "markdown",
   "metadata": {},
   "source": [
    "or we can state it as"
   ]
  },
  {
   "cell_type": "markdown",
   "metadata": {},
   "source": [
    "$$\n",
    "{\\displaystyle \\min_{\\boldsymbol{\\beta}\\in\n",
    "{\\mathbb{R}}^{p}}}\\frac{1}{n}\\sum_{i=0}^{n-1}\\left(y_i-\\tilde{y}_i\\right)^2=\\frac{1}{n}\\vert\\vert \\boldsymbol{y}-\\boldsymbol{X}\\boldsymbol{\\beta}\\vert\\vert_2^2,\n",
    "$$"
   ]
  },
  {
   "cell_type": "markdown",
   "metadata": {},
   "source": [
    "where we have used the definition of  a norm-2 vector, that is"
   ]
  },
  {
   "cell_type": "markdown",
   "metadata": {},
   "source": [
    "$$\n",
    "\\vert\\vert \\boldsymbol{x}\\vert\\vert_2 = \\sqrt{\\sum_i x_i^2}.\n",
    "$$"
   ]
  },
  {
   "cell_type": "markdown",
   "metadata": {},
   "source": [
    "## From OLS to Ridge and Lasso\n",
    "\n",
    "By minimizing the above equation with respect to the parameters\n",
    "$\\boldsymbol{\\beta}$ we could then obtain an analytical expression for the\n",
    "parameters $\\boldsymbol{\\beta}$.  We can add a regularization parameter $\\lambda$ by\n",
    "defining a new cost function to be optimized, that is"
   ]
  },
  {
   "cell_type": "markdown",
   "metadata": {},
   "source": [
    "$$\n",
    "{\\displaystyle \\min_{\\boldsymbol{\\beta}\\in\n",
    "{\\mathbb{R}}^{p}}}\\frac{1}{n}\\vert\\vert \\boldsymbol{y}-\\boldsymbol{X}\\boldsymbol{\\beta}\\vert\\vert_2^2+\\lambda\\vert\\vert \\boldsymbol{\\beta}\\vert\\vert_2^2\n",
    "$$"
   ]
  },
  {
   "cell_type": "markdown",
   "metadata": {},
   "source": [
    "which leads to the Ridge regression minimization problem where we\n",
    "require that $\\vert\\vert \\boldsymbol{\\beta}\\vert\\vert_2^2\\le t$, where $t$ is\n",
    "a finite number larger than zero. By defining"
   ]
  },
  {
   "cell_type": "markdown",
   "metadata": {},
   "source": [
    "$$\n",
    "C(\\boldsymbol{X},\\boldsymbol{\\beta})=\\frac{1}{n}\\vert\\vert \\boldsymbol{y}-\\boldsymbol{X}\\boldsymbol{\\beta}\\vert\\vert_2^2+\\lambda\\vert\\vert \\boldsymbol{\\beta}\\vert\\vert_1,\n",
    "$$"
   ]
  },
  {
   "cell_type": "markdown",
   "metadata": {},
   "source": [
    "we have a new optimization equation"
   ]
  },
  {
   "cell_type": "markdown",
   "metadata": {},
   "source": [
    "$$\n",
    "{\\displaystyle \\min_{\\boldsymbol{\\beta}\\in\n",
    "{\\mathbb{R}}^{p}}}\\frac{1}{n}\\vert\\vert \\boldsymbol{y}-\\boldsymbol{X}\\boldsymbol{\\beta}\\vert\\vert_2^2+\\lambda\\vert\\vert \\boldsymbol{\\beta}\\vert\\vert_1\n",
    "$$"
   ]
  },
  {
   "cell_type": "markdown",
   "metadata": {},
   "source": [
    "which leads to Lasso regression. Lasso stands for least absolute shrinkage and selection operator. \n",
    "\n",
    "Here we have defined the norm-1 as"
   ]
  },
  {
   "cell_type": "markdown",
   "metadata": {},
   "source": [
    "$$\n",
    "\\vert\\vert \\boldsymbol{x}\\vert\\vert_1 = \\sum_i \\vert x_i\\vert.\n",
    "$$"
   ]
  },
  {
   "cell_type": "markdown",
   "metadata": {},
   "source": [
    "## Deriving the  Ridge Regression Equations\n",
    "\n",
    "Using the matrix-vector expression for Ridge regression and dropping the parameter $1/n$ in front of the standard means squared error equation, we have"
   ]
  },
  {
   "cell_type": "markdown",
   "metadata": {},
   "source": [
    "$$\n",
    "C(\\boldsymbol{X},\\boldsymbol{\\beta})=\\left\\{(\\boldsymbol{y}-\\boldsymbol{X}\\boldsymbol{\\beta})^T(\\boldsymbol{y}-\\boldsymbol{X}\\boldsymbol{\\beta})\\right\\}+\\lambda\\boldsymbol{\\beta}^T\\boldsymbol{\\beta},\n",
    "$$"
   ]
  },
  {
   "cell_type": "markdown",
   "metadata": {},
   "source": [
    "and \n",
    "taking the derivatives with respect to $\\boldsymbol{\\beta}$ we obtain then\n",
    "a slightly modified matrix inversion problem which for finite values\n",
    "of $\\lambda$ does not suffer from singularity problems. We obtain\n",
    "the optimal parameters"
   ]
  },
  {
   "cell_type": "markdown",
   "metadata": {},
   "source": [
    "$$\n",
    "\\hat{\\boldsymbol{\\beta}}_{\\mathrm{Ridge}} = \\left(\\boldsymbol{X}^T\\boldsymbol{X}+\\lambda\\boldsymbol{I}\\right)^{-1}\\boldsymbol{X}^T\\boldsymbol{y},\n",
    "$$"
   ]
  },
  {
   "cell_type": "markdown",
   "metadata": {},
   "source": [
    "with $\\boldsymbol{I}$ being a $p\\times p$ identity matrix with the constraint that"
   ]
  },
  {
   "cell_type": "markdown",
   "metadata": {},
   "source": [
    "$$\n",
    "\\sum_{i=0}^{p-1} \\beta_i^2 \\leq t,\n",
    "$$"
   ]
  },
  {
   "cell_type": "markdown",
   "metadata": {},
   "source": [
    "with $t$ a finite positive number. \n",
    "\n",
    "When we compare this with the ordinary least squares result we have"
   ]
  },
  {
   "cell_type": "markdown",
   "metadata": {},
   "source": [
    "$$\n",
    "\\hat{\\boldsymbol{\\beta}}_{\\mathrm{OLS}} = \\left(\\boldsymbol{X}^T\\boldsymbol{X}\\right)^{-1}\\boldsymbol{X}^T\\boldsymbol{y},\n",
    "$$"
   ]
  },
  {
   "cell_type": "markdown",
   "metadata": {},
   "source": [
    "which can lead to singular matrices. However, with the SVD, we can always compute the inverse of the matrix $\\boldsymbol{X}^T\\boldsymbol{X}$.\n",
    "\n",
    "\n",
    "We see that Ridge regression is nothing but the standard OLS with a\n",
    "modified diagonal term added to $\\boldsymbol{X}^T\\boldsymbol{X}$. The consequences, in\n",
    "particular for our discussion of the bias-variance tradeoff are rather\n",
    "interesting. We will see that for specific values of $\\lambda$, we may\n",
    "even reduce the variance of the optimal parameters $\\boldsymbol{\\beta}$. These topics and other related ones, will be discussed after the more linear algebra oriented analysis here.\n",
    "\n",
    "## SVD analysis\n",
    "\n",
    "Using our insights about the SVD of the design matrix $\\boldsymbol{X}$ \n",
    "We have already analyzed the OLS solutions in terms of the eigenvectors (the columns) of the right singular value matrix $\\boldsymbol{U}$ as"
   ]
  },
  {
   "cell_type": "markdown",
   "metadata": {},
   "source": [
    "$$\n",
    "\\tilde{\\boldsymbol{y}}_{\\mathrm{OLS}}=\\boldsymbol{X}\\boldsymbol{\\beta}  =\\boldsymbol{U}\\boldsymbol{U}^T\\boldsymbol{y}.\n",
    "$$"
   ]
  },
  {
   "cell_type": "markdown",
   "metadata": {},
   "source": [
    "For Ridge regression this becomes"
   ]
  },
  {
   "cell_type": "markdown",
   "metadata": {},
   "source": [
    "$$\n",
    "\\tilde{\\boldsymbol{y}}_{\\mathrm{Ridge}}=\\boldsymbol{X}\\boldsymbol{\\beta}_{\\mathrm{Ridge}} = \\boldsymbol{U\\Sigma V^T}\\left(\\boldsymbol{V}\\boldsymbol{\\Sigma}^2\\boldsymbol{V}^T+\\lambda\\boldsymbol{I} \\right)^{-1}(\\boldsymbol{U\\Sigma V^T})^T\\boldsymbol{y}=\\sum_{j=0}^{p-1}\\boldsymbol{u}_j\\boldsymbol{u}_j^T\\frac{\\sigma_j^2}{\\sigma_j^2+\\lambda}\\boldsymbol{y},\n",
    "$$"
   ]
  },
  {
   "cell_type": "markdown",
   "metadata": {},
   "source": [
    "with the vectors $\\boldsymbol{u}_j$ being the columns of $\\boldsymbol{U}$ from the SVD of the matrix $\\boldsymbol{X}$. \n",
    "\n",
    "## Interpreting the Ridge results\n",
    "\n",
    "Since $\\lambda \\geq 0$, it means that compared to OLS, we have"
   ]
  },
  {
   "cell_type": "markdown",
   "metadata": {},
   "source": [
    "$$\n",
    "\\frac{\\sigma_j^2}{\\sigma_j^2+\\lambda} \\leq 1.\n",
    "$$"
   ]
  },
  {
   "cell_type": "markdown",
   "metadata": {},
   "source": [
    "Ridge regression finds the coordinates of $\\boldsymbol{y}$ with respect to the\n",
    "orthonormal basis $\\boldsymbol{U}$, it then shrinks the coordinates by\n",
    "$\\frac{\\sigma_j^2}{\\sigma_j^2+\\lambda}$. Recall that the SVD has\n",
    "eigenvalues ordered in a descending way, that is $\\sigma_i \\geq\n",
    "\\sigma_{i+1}$.\n",
    "\n",
    "For small eigenvalues $\\sigma_i$ it means that their contributions become less important, a fact which can be used to reduce the number of degrees of freedom. More about this when we have covered the material on a statistical interpretation of various linear regression methods.\n",
    "\n",
    "\n",
    "## More interpretations\n",
    "\n",
    "For the sake of simplicity, let us assume that the design matrix is orthonormal, that is"
   ]
  },
  {
   "cell_type": "markdown",
   "metadata": {},
   "source": [
    "$$\n",
    "\\boldsymbol{X}^T\\boldsymbol{X}=(\\boldsymbol{X}^T\\boldsymbol{X})^{-1} =\\boldsymbol{I}.\n",
    "$$"
   ]
  },
  {
   "cell_type": "markdown",
   "metadata": {},
   "source": [
    "In this case the standard OLS results in"
   ]
  },
  {
   "cell_type": "markdown",
   "metadata": {},
   "source": [
    "$$\n",
    "\\boldsymbol{\\beta}^{\\mathrm{OLS}} = \\boldsymbol{X}^T\\boldsymbol{y}=\\sum_{i=0}^{p-1}\\boldsymbol{u}_j\\boldsymbol{u}_j^T\\boldsymbol{y},\n",
    "$$"
   ]
  },
  {
   "cell_type": "markdown",
   "metadata": {},
   "source": [
    "and"
   ]
  },
  {
   "cell_type": "markdown",
   "metadata": {},
   "source": [
    "$$\n",
    "\\boldsymbol{\\beta}^{\\mathrm{Ridge}} = \\left(\\boldsymbol{I}+\\lambda\\boldsymbol{I}\\right)^{-1}\\boldsymbol{X}^T\\boldsymbol{y}=\\left(1+\\lambda\\right)^{-1}\\boldsymbol{\\beta}^{\\mathrm{OLS}},\n",
    "$$"
   ]
  },
  {
   "cell_type": "markdown",
   "metadata": {},
   "source": [
    "that is the Ridge estimator scales the OLS estimator by the inverse of a factor $1+\\lambda$, and\n",
    "the Ridge estimator converges to zero when the hyperparameter goes to\n",
    "infinity.\n",
    "\n",
    "We will come back to more interpreations after we have gone through some of the statistical analysis part. \n",
    "\n",
    "For more discussions of Ridge and Lasso regression, [Wessel van Wieringen's](https://arxiv.org/abs/1509.09169) article is highly recommended.\n",
    "Similarly, [Mehta et al's article](https://arxiv.org/abs/1803.08823) is also recommended.\n",
    "\n",
    "## Deriving the  Lasso Regression Equations\n",
    "\n",
    "Using the matrix-vector expression for Lasso regression and dropping the parameter $1/n$ in front of the standard mean squared error equation, we have the following **cost** function"
   ]
  },
  {
   "cell_type": "markdown",
   "metadata": {},
   "source": [
    "$$\n",
    "C(\\boldsymbol{X},\\boldsymbol{\\beta})=\\left\\{(\\boldsymbol{y}-\\boldsymbol{X}\\boldsymbol{\\beta})^T(\\boldsymbol{y}-\\boldsymbol{X}\\boldsymbol{\\beta})\\right\\}+\\lambda\\vert\\vert\\boldsymbol{\\beta}\\vert\\vert_1,\n",
    "$$"
   ]
  },
  {
   "cell_type": "markdown",
   "metadata": {},
   "source": [
    "Taking the derivative with respect to $\\boldsymbol{\\beta}$ and recalling that the derivative of the absolute value is (we drop the boldfaced vector symbol for simplicty)"
   ]
  },
  {
   "cell_type": "markdown",
   "metadata": {},
   "source": [
    "$$\n",
    "\\frac{d \\vert \\beta\\vert}{d \\boldsymbol{\\beta}}=\\mathrm{sgn}(\\boldsymbol{\\beta})=\\left\\{\\begin{array}{cc} 1 & \\beta > 0 \\\\ 0 & \\beta =0\\\\-1 & \\beta < 0, \\end{array}\\right.\n",
    "$$"
   ]
  },
  {
   "cell_type": "markdown",
   "metadata": {},
   "source": [
    "we have that the derivative of the cost function is"
   ]
  },
  {
   "cell_type": "markdown",
   "metadata": {},
   "source": [
    "$$\n",
    "\\frac{\\partial C(\\boldsymbol{X},\\boldsymbol{\\beta})}{\\partial \\boldsymbol{\\beta}}=-2\\boldsymbol{X}^T(\\boldsymbol{y}-\\boldsymbol{X}\\boldsymbol{\\beta})+\\lambda sgn(\\boldsymbol{\\beta})=0,\n",
    "$$"
   ]
  },
  {
   "cell_type": "markdown",
   "metadata": {},
   "source": [
    "and reordering we have"
   ]
  },
  {
   "cell_type": "markdown",
   "metadata": {},
   "source": [
    "$$\n",
    "\\boldsymbol{X}^T\\boldsymbol{X}\\boldsymbol{\\beta}+\\lambda sgn(\\boldsymbol{\\beta})=2\\boldsymbol{X}^T\\boldsymbol{y}.\n",
    "$$"
   ]
  },
  {
   "cell_type": "markdown",
   "metadata": {},
   "source": [
    "This equation does not lead to a nice analytical equation as in Ridge regression or ordinary least squares. This equation can however be solved by using standard convex optimization algorithms using for example the Python package [CVXOPT](https://cvxopt.org/). We will discuss this later. \n",
    "\n",
    "\n",
    "\n",
    "\n",
    "## Simple example to illustrate Ordinary Least Squares, Ridge and Lasso Regression\n",
    "\n",
    "Let us assume that our design matrix is given by unit (identity) matrix, that is a square diagonal matrix with ones only along the\n",
    "diagonal. In this case we have an equal number of rows and columns $n=p$.\n",
    "\n",
    "Our model approximation is just $\\tilde{\\boldsymbol{y}}=\\boldsymbol{\\beta}$ and the mean squared error and thereby the cost function for ordinary least sqquares (OLS) is then (we drop the term $1/n$)"
   ]
  },
  {
   "cell_type": "markdown",
   "metadata": {},
   "source": [
    "$$\n",
    "C(\\boldsymbol{\\beta})=\\sum_{i=0}^{p-1}(y_i-\\beta_i)^2,\n",
    "$$"
   ]
  },
  {
   "cell_type": "markdown",
   "metadata": {},
   "source": [
    "and minimizing we have that"
   ]
  },
  {
   "cell_type": "markdown",
   "metadata": {},
   "source": [
    "$$\n",
    "\\hat{\\beta}_i^{\\mathrm{OLS}} = y_i.\n",
    "$$"
   ]
  },
  {
   "cell_type": "markdown",
   "metadata": {},
   "source": [
    "## Ridge Regression\n",
    "\n",
    "For Ridge regression our cost function is"
   ]
  },
  {
   "cell_type": "markdown",
   "metadata": {},
   "source": [
    "$$\n",
    "C(\\boldsymbol{\\beta})=\\sum_{i=0}^{p-1}(y_i-\\beta_i)^2+\\lambda\\sum_{i=0}^{p-1}\\beta_i^2,\n",
    "$$"
   ]
  },
  {
   "cell_type": "markdown",
   "metadata": {},
   "source": [
    "and minimizing we have that"
   ]
  },
  {
   "cell_type": "markdown",
   "metadata": {},
   "source": [
    "$$\n",
    "\\hat{\\beta}_i^{\\mathrm{Ridge}} = \\frac{y_i}{1+\\lambda}.\n",
    "$$"
   ]
  },
  {
   "cell_type": "markdown",
   "metadata": {},
   "source": [
    "## Lasso Regression\n",
    "\n",
    "For Lasso regression our cost function is"
   ]
  },
  {
   "cell_type": "markdown",
   "metadata": {},
   "source": [
    "$$\n",
    "C(\\boldsymbol{\\beta})=\\sum_{i=0}^{p-1}(y_i-\\beta_i)^2+\\lambda\\sum_{i=0}^{p-1}\\vert\\beta_i\\vert=\\sum_{i=0}^{p-1}(y_i-\\beta_i)^2+\\lambda\\sum_{i=0}^{p-1}\\sqrt{\\beta_i^2},\n",
    "$$"
   ]
  },
  {
   "cell_type": "markdown",
   "metadata": {},
   "source": [
    "and minimizing we have that"
   ]
  },
  {
   "cell_type": "markdown",
   "metadata": {},
   "source": [
    "$$\n",
    "-2\\sum_{i=0}^{p-1}(y_i-\\beta_i)+\\lambda \\sum_{i=0}^{p-1}\\frac{(\\beta_i)}{\\vert\\beta_i\\vert}=0,\n",
    "$$"
   ]
  },
  {
   "cell_type": "markdown",
   "metadata": {},
   "source": [
    "which leads to"
   ]
  },
  {
   "cell_type": "markdown",
   "metadata": {},
   "source": [
    "$$\n",
    "\\hat{\\boldsymbol{\\beta}}_i^{\\mathrm{Lasso}} = \\left\\{\\begin{array}{ccc}y_i-\\frac{\\lambda}{2} &\\mathrm{if} & y_i> \\frac{\\lambda}{2}\\\\\n",
    "                                                          y_i+\\frac{\\lambda}{2} &\\mathrm{if} & y_i< -\\frac{\\lambda}{2}\\\\\n",
    "\t\t\t\t\t\t\t  0 &\\mathrm{if} & \\vert y_i\\vert\\le  \\frac{\\lambda}{2}\\end{array}\\right.\\\\.\n",
    "$$"
   ]
  },
  {
   "cell_type": "markdown",
   "metadata": {},
   "source": [
    "Plotting these results ([figure in handwritten notes for week 36](https://github.com/CompPhysics/MachineLearning/blob/master/doc/HandWrittenNotes/2021/NotesSeptember9.pdf)) shows clearly that Lasso regression suppresses (sets to zero) values of $\\beta_i$ for specific values of $\\lambda$. Ridge regression reduces on the other hand the values of $\\beta_i$ as function of $\\lambda$.\n",
    "\n",
    "\n",
    "\n",
    "## Yet another Example\n",
    "\n",
    "Let us assume we have a data set with outputs/targets given by the vector"
   ]
  },
  {
   "cell_type": "markdown",
   "metadata": {},
   "source": [
    "$$\n",
    "\\boldsymbol{y}=\\begin{bmatrix}4 \\\\ 2 \\\\3\\end{bmatrix},\n",
    "$$"
   ]
  },
  {
   "cell_type": "markdown",
   "metadata": {},
   "source": [
    "and our inputs as a $3\\times 2$ design matrix"
   ]
  },
  {
   "cell_type": "markdown",
   "metadata": {},
   "source": [
    "$$\n",
    "\\boldsymbol{X}=\\begin{bmatrix}2 & 0\\\\ 0 & 1 \\\\ 0 & 0\\end{bmatrix},\n",
    "$$"
   ]
  },
  {
   "cell_type": "markdown",
   "metadata": {},
   "source": [
    "meaning that we have two features and two unknown parameters $\\beta_0$ and $\\beta_1$ to be determined either by ordinary least squares, Ridge or Lasso regression.\n",
    "\n",
    "## The OLS case\n",
    "\n",
    "For ordinary least squares (OLS) we know that the optimal solution is"
   ]
  },
  {
   "cell_type": "markdown",
   "metadata": {},
   "source": [
    "$$\n",
    "\\hat{\\boldsymbol{\\beta}}^{\\mathrm{OLS}}=\\left( \\boldsymbol{X}^T\\boldsymbol{X}\\right)^{-1}\\boldsymbol{X}^T\\boldsymbol{y}.\n",
    "$$"
   ]
  },
  {
   "cell_type": "markdown",
   "metadata": {},
   "source": [
    "Inserting the above values we obtain that"
   ]
  },
  {
   "cell_type": "markdown",
   "metadata": {},
   "source": [
    "$$\n",
    "\\hat{\\boldsymbol{\\beta}}^{\\mathrm{OLS}}=\\begin{bmatrix}2 \\\\ 2\\end{bmatrix},\n",
    "$$"
   ]
  },
  {
   "cell_type": "markdown",
   "metadata": {},
   "source": [
    "The code which implements this simpler case is presented after the discussion of Ridge and Lasso.\n",
    "\n",
    "## The Ridge case\n",
    "\n",
    "For Ridge regression we have"
   ]
  },
  {
   "cell_type": "markdown",
   "metadata": {},
   "source": [
    "$$\n",
    "\\hat{\\boldsymbol{\\beta}}^{\\mathrm{Ridge}}=\\left( \\boldsymbol{X}^T\\boldsymbol{X}+\\lambda\\boldsymbol{I}\\right)^{-1}\\boldsymbol{X}^T\\boldsymbol{y}.\n",
    "$$"
   ]
  },
  {
   "cell_type": "markdown",
   "metadata": {},
   "source": [
    "Inserting the above values we obtain that"
   ]
  },
  {
   "cell_type": "markdown",
   "metadata": {},
   "source": [
    "$$\n",
    "\\hat{\\boldsymbol{\\beta}}^{\\mathrm{Ridge}}=\\begin{bmatrix}\\frac{8}{4+\\lambda} \\\\ \\frac{2}{1+\\lambda}\\end{bmatrix},\n",
    "$$"
   ]
  },
  {
   "cell_type": "markdown",
   "metadata": {},
   "source": [
    "There is normally a constraint on the value of $\\vert\\vert \\boldsymbol{\\beta}\\vert\\vert_2$ via the parameter $\\lambda$.\n",
    "Let us for simplicity assume that $\\beta_0^2+\\beta_1^2=1$ as constraint. This will allow us to find an expression for the optimal values of $\\beta$ and $\\lambda$.\n",
    "\n",
    "To see this, let us write the cost function for Ridge regression.  \n",
    "\n",
    "\n",
    "## Writing the Cost Function\n",
    "\n",
    "We define the MSE without the $1/n$ factor and have then, using that"
   ]
  },
  {
   "cell_type": "markdown",
   "metadata": {},
   "source": [
    "$$\n",
    "\\boldsymbol{X}\\boldsymbol{\\beta}=\\begin{bmatrix} 2\\beta_0 \\\\ \\beta_1 \\\\0 \\end{bmatrix},\n",
    "$$"
   ]
  },
  {
   "cell_type": "markdown",
   "metadata": {},
   "source": [
    "$$\n",
    "C(\\boldsymbol{\\beta})=(4-2\\beta_0)^2+(2-\\beta_1)^2+\\lambda(\\beta_0^2+\\beta_1^2),\n",
    "$$"
   ]
  },
  {
   "cell_type": "markdown",
   "metadata": {},
   "source": [
    "and taking the derivative with respect to $\\beta_0$ we get"
   ]
  },
  {
   "cell_type": "markdown",
   "metadata": {},
   "source": [
    "$$\n",
    "\\beta_0=\\frac{8}{4+\\lambda},\n",
    "$$"
   ]
  },
  {
   "cell_type": "markdown",
   "metadata": {},
   "source": [
    "and for $\\beta_1$ we obtain"
   ]
  },
  {
   "cell_type": "markdown",
   "metadata": {},
   "source": [
    "$$\n",
    "\\beta_1=\\frac{2}{1+\\lambda},\n",
    "$$"
   ]
  },
  {
   "cell_type": "markdown",
   "metadata": {},
   "source": [
    "Using the constraint for $\\beta_0^2+\\beta_1^2=1$ we can constrain $\\lambda$ by solving"
   ]
  },
  {
   "cell_type": "markdown",
   "metadata": {},
   "source": [
    "$$\n",
    "\\left(\\frac{8}{4+\\lambda}\\right)^2+\\left(\\frac{2}{1+\\lambda}\\right)^2=1,\n",
    "$$"
   ]
  },
  {
   "cell_type": "markdown",
   "metadata": {},
   "source": [
    "which gives $\\lambda=4.571$ and $\\beta_0=0.933$ and $\\beta_1=0.359$.\n",
    "\n",
    "## Lasso case\n",
    "\n",
    "For Lasso we need now, keeping a  constraint on $\\vert\\beta_0\\vert+\\vert\\beta_1\\vert=1$,  to take the derivative of the absolute values of $\\beta_0$\n",
    "and $\\beta_1$. This gives us the following derivatives of the cost function"
   ]
  },
  {
   "cell_type": "markdown",
   "metadata": {},
   "source": [
    "$$\n",
    "C(\\boldsymbol{\\beta})=(4-2\\beta_0)^2+(2-\\beta_1)^2+\\lambda(\\vert\\beta_0\\vert+\\vert\\beta_1\\vert),\n",
    "$$"
   ]
  },
  {
   "cell_type": "markdown",
   "metadata": {},
   "source": [
    "$$\n",
    "\\frac{\\partial C(\\boldsymbol{\\beta})}{\\partial \\beta_0}=-4(4-2\\beta_0)+\\lambda\\mathrm{sgn}(\\beta_0)=0,\n",
    "$$"
   ]
  },
  {
   "cell_type": "markdown",
   "metadata": {},
   "source": [
    "and"
   ]
  },
  {
   "cell_type": "markdown",
   "metadata": {},
   "source": [
    "$$\n",
    "\\frac{\\partial C(\\boldsymbol{\\beta})}{\\partial \\beta_1}=-2(2-\\beta_1)+\\lambda\\mathrm{sgn}(\\beta_1)=0.\n",
    "$$"
   ]
  },
  {
   "cell_type": "markdown",
   "metadata": {},
   "source": [
    "We have now four cases to solve besides the trivial cases $\\beta_0$ and/or $\\beta_1$ are zero, namely\n",
    "1. $\\beta_0 > 0$ and $\\beta_1 > 0$,\n",
    "\n",
    "2. $\\beta_0 > 0$ and $\\beta_1 < 0$,\n",
    "\n",
    "3. $\\beta_0 < 0$ and $\\beta_1 > 0$,\n",
    "\n",
    "4. $\\beta_0 < 0$ and $\\beta_1 < 0$.\n",
    "\n",
    "## The first Case\n",
    "\n",
    "If we consider the first case, we have then"
   ]
  },
  {
   "cell_type": "markdown",
   "metadata": {},
   "source": [
    "$$\n",
    "-4(4-2\\beta_0)+\\lambda=0,\n",
    "$$"
   ]
  },
  {
   "cell_type": "markdown",
   "metadata": {},
   "source": [
    "and"
   ]
  },
  {
   "cell_type": "markdown",
   "metadata": {},
   "source": [
    "$$\n",
    "-2(2-\\beta_1)+\\lambda=0.\n",
    "$$"
   ]
  },
  {
   "cell_type": "markdown",
   "metadata": {},
   "source": [
    "which yields"
   ]
  },
  {
   "cell_type": "markdown",
   "metadata": {},
   "source": [
    "$$\n",
    "\\beta_0=\\frac{16+\\lambda}{8},\n",
    "$$"
   ]
  },
  {
   "cell_type": "markdown",
   "metadata": {},
   "source": [
    "and"
   ]
  },
  {
   "cell_type": "markdown",
   "metadata": {},
   "source": [
    "$$\n",
    "\\beta_1=\\frac{4+\\lambda}{2}.\n",
    "$$"
   ]
  },
  {
   "cell_type": "markdown",
   "metadata": {},
   "source": [
    "Using the constraint on $\\beta_0$ and $\\beta_1$ we can then find the optimal value of $\\lambda$ for the different cases. We leave this as an exercise to you.\n",
    "\n",
    "## Simple code for solving the above problem\n",
    "\n",
    "Here we set up the OLS, Ridge and Lasso functionality in order to study the above example. Note that here we have opted for a set of values of $\\lambda$, meaning that we need to perform a search in order to find the optimal values.\n",
    "\n",
    "First we study and compare the OLS and Ridge results.  The next code compares all three methods."
   ]
  },
  {
   "cell_type": "code",
   "execution_count": 6,
   "metadata": {},
   "outputs": [
    {
     "name": "stdout",
     "output_type": "stream",
     "text": [
      "[2. 2.]\n",
      "Training MSE for OLS\n",
      "3.0\n"
     ]
    },
    {
     "data": {
      "image/png": "[encoded data removed]",
      "text/plain": [
       "<Figure size 432x288 with 1 Axes>"
      ]
     },
     "metadata": {
      "needs_background": "light"
     },
     "output_type": "display_data"
    }
   ],
   "source": [
    "%matplotlib inline\n",
    "\n",
    "import os\n",
    "import numpy as np\n",
    "import pandas as pd\n",
    "import matplotlib.pyplot as plt\n",
    "\n",
    "def R2(y_data, y_model):\n",
    "    return 1 - np.sum((y_data - y_model) ** 2) / np.sum((y_data - np.mean(y_data)) ** 2)\n",
    "def MSE(y_data,y_model):\n",
    "    n = np.size(y_model)\n",
    "    return np.sum((y_data-y_model)**2)/n\n",
    "\n",
    "\n",
    "# A seed just to ensure that the random numbers are the same for every run.\n",
    "# Useful for eventual debugging.\n",
    "\n",
    "X = np.array( [ [ 2, 0], [0, 1], [0,0]])\n",
    "y = np.array( [4, 2, 3])\n",
    "\n",
    "\n",
    "# matrix inversion to find beta\n",
    "OLSbeta = np.linalg.inv(X.T @ X) @ X.T @ y\n",
    "print(OLSbeta)\n",
    "# and then make the prediction\n",
    "ytildeOLS = X @ OLSbeta\n",
    "print(\"Training MSE for OLS\")\n",
    "print(MSE(y,ytildeOLS))\n",
    "ypredictOLS = X @ OLSbeta\n",
    "\n",
    "# Repeat now for Ridge regression and various values of the regularization parameter\n",
    "I = np.eye(2,2)\n",
    "# Decide which values of lambda to use\n",
    "nlambdas = 100\n",
    "MSEPredict = np.zeros(nlambdas)\n",
    "lambdas = np.logspace(-4, 4, nlambdas)\n",
    "for i in range(nlambdas):\n",
    "    lmb = lambdas[i]\n",
    "    Ridgebeta = np.linalg.inv(X.T @ X+lmb*I) @ X.T @ y\n",
    "#    print(Ridgebeta)\n",
    "    # and then make the prediction\n",
    "    ypredictRidge = X @ Ridgebeta\n",
    "    MSEPredict[i] = MSE(y,ypredictRidge)\n",
    "#    print(MSEPredict[i])\n",
    "    # Now plot the results\n",
    "plt.figure()\n",
    "plt.plot(np.log10(lambdas), MSEPredict, 'r--', label = 'MSE Ridge Train')\n",
    "plt.xlabel('log10(lambda)')\n",
    "plt.ylabel('MSE')\n",
    "plt.legend()\n",
    "plt.show()"
   ]
  },
  {
   "cell_type": "markdown",
   "metadata": {},
   "source": [
    "We see here that we reach a plateau. What is actually happening?\n",
    "\n",
    "\n",
    "## With Lasso Regression"
   ]
  },
  {
   "cell_type": "code",
   "execution_count": 7,
   "metadata": {},
   "outputs": [
    {
     "name": "stdout",
     "output_type": "stream",
     "text": [
      "[2. 2.]\n",
      "Training MSE for OLS\n",
      "3.0\n",
      "[1.99995    1.99980002]\n",
      "[ 0.50001525 -0.99953475]\n",
      "[1.99993978 1.99975913]\n",
      "[ 0.50001525 -0.99944272]\n",
      "[1.99992746 1.99970988]\n",
      "[ 0.50001525 -0.99933188]\n",
      "[1.99991263 1.99965056]\n",
      "[ 0.50001525 -0.99919837]\n",
      "[1.99989476 1.99957911]\n",
      "[ 0.50001524 -0.99903755]\n",
      "[1.99987324 1.99949306]\n",
      "[ 0.50001524 -0.99884384]\n",
      "[1.99984732 1.99938942]\n",
      "[ 0.50001524 -0.99861053]\n",
      "[1.9998161  1.99926459]\n",
      "[ 0.50001523 -0.9983295 ]\n",
      "[1.99977849 1.99911427]\n",
      "[ 0.50001523 -0.99799099]\n",
      "[1.9997332  1.99893323]\n",
      "[ 0.50001522 -0.99758326]\n",
      "[1.99967865 1.99871521]\n",
      "[ 0.50001521 -0.99709215]\n",
      "[1.99961294 1.99845267]\n",
      "[ 0.50001521 -0.99650061]\n",
      "[1.99953381 1.99813653]\n",
      "[ 0.50001519 -0.99578809]\n",
      "[1.9994385  1.99775587]\n",
      "[ 0.50001518 -0.99492986]\n",
      "[1.9993237  1.99729756]\n",
      "[ 0.50001517 -0.99389612]\n",
      "[1.99918546 1.9967458 ]\n",
      "[ 0.50001515 -0.99265097]\n",
      "[1.99901896 1.99608161]\n",
      "[ 0.50001512 -0.99115119]\n",
      "[1.99881845 1.99528218]\n",
      "[ 0.5000151 -0.9893447]\n",
      "[1.998577  1.9943201]\n",
      "[ 0.50001506 -0.98716878]\n",
      "[1.99828624 1.99316252]\n",
      "[ 0.50001502 -0.98454786]\n",
      "[1.99793613 1.99176998]\n",
      "[ 0.50001498 -0.98139097]\n",
      "[1.99751458 1.99009525]\n",
      "[ 0.50001492 -0.97758848]\n",
      "[1.99700706 1.98808176]\n",
      "[ 0.50001485 -0.97300836]\n",
      "[1.9963961  1.98566191]\n",
      "[ 0.50001476 -0.9674916 ]\n",
      "[1.99566069 1.98275501]\n",
      "[ 0.50001466 -0.96084663]\n",
      "[1.9947756  1.97926491]\n",
      "[ 0.50001454 -0.95284275]\n",
      "[1.99371056 1.97507735]\n",
      "[ 0.50001439 -0.94320205]\n",
      "[1.99242921 1.97005689]\n",
      "[ 0.50001422 -0.93158979]\n",
      "[1.99088801 1.9640435 ]\n",
      "[ 0.500014   -0.91760278]\n",
      "[1.9890348  1.95684892]\n",
      "[ 0.50001374 -0.90075537]\n",
      "[1.98680716 1.9482527 ]\n",
      "[ 0.50001343 -0.88046261]\n",
      "[1.98413059 1.93799826]\n",
      "[ 0.50001306 -0.85601992]\n",
      "[1.98091621 1.92578916]\n",
      "[ 0.50001261 -0.8265786 ]\n",
      "[1.97705827 1.91128596]\n",
      "[ 0.50001207 -0.79111643]\n",
      "[1.97243128 1.89410423]\n",
      "[ 0.50001142 -0.74840212]\n",
      "[1.96688672 1.87381451]\n",
      "[ 0.50001063 -0.69695259]\n",
      "[1.96024953 1.84994524]\n",
      "[ 0.50000969 -0.63498144]\n",
      "[1.95231424 1.82198978]\n",
      "[ 0.50000855 -0.56033697]\n",
      "[1.94284104 1.78941903]\n",
      "[ 0.50000718 -0.47042744]\n",
      "[1.93155188 1.75170092]\n",
      "[ 0.50000553 -0.3621311 ]\n",
      "[1.91812702 1.70832814]\n",
      "[ 0.50001414 -0.23167717]\n",
      "[1.90220243 1.65885453]\n",
      "[ 0.50000455 -0.07456491]\n",
      "[1.88336879 1.60293962]\n",
      "[ 0.47132891 -0.        ]\n",
      "[1.86117291 1.54039921]\n",
      "[ 0.41433969 -0.        ]\n",
      "[1.83512277 1.47125748]\n",
      "[ 0.34569596 -0.        ]\n",
      "[1.80469739 1.39579407]\n",
      "[ 0.26301436 -0.        ]\n",
      "[1.76936315 1.31457796]\n",
      "[ 0.16342407 -0.        ]\n",
      "[1.72859758 1.22847924]\n",
      "[ 0.04346721 -0.        ]\n",
      "[1.68192193 1.13865173]\n",
      "[ 0. -0.]\n",
      "[1.62894215 1.04648335]\n",
      "[ 0. -0.]\n",
      "[1.56939714 0.95351665]\n",
      "[ 0. -0.]\n",
      "[1.50321091 0.86134827]\n",
      "[ 0. -0.]\n",
      "[1.43054282 0.77152076]\n",
      "[ 0. -0.]\n",
      "[1.35182854 0.68542204]\n",
      "[ 0. -0.]\n",
      "[1.26780278 0.60420593]\n",
      "[ 0. -0.]\n",
      "[1.17949575 0.52874252]\n",
      "[ 0. -0.]\n",
      "[1.0881981  0.45960079]\n",
      "[ 0. -0.]\n",
      "[0.99539415 0.39706038]\n",
      "[ 0. -0.]\n",
      "[0.90266948 0.34114547]\n",
      "[ 0. -0.]\n",
      "[0.81160425 0.29167186]\n",
      "[ 0. -0.]\n",
      "[0.7236674  0.24829908]\n",
      "[ 0. -0.]\n",
      "[0.64012627 0.21058097]\n",
      "[ 0. -0.]\n",
      "[0.56198284 0.17801022]\n",
      "[ 0. -0.]\n",
      "[0.48994188 0.15005476]\n",
      "[ 0. -0.]\n",
      "[0.42441033 0.12618549]\n",
      "[ 0. -0.]\n",
      "[0.3655222  0.10589577]\n",
      "[ 0. -0.]\n",
      "[0.31318084 0.08871404]\n",
      "[ 0. -0.]\n",
      "[0.26710969 0.07421084]\n",
      "[ 0. -0.]\n",
      "[0.22690428 0.06200174]\n",
      "[ 0. -0.]\n",
      "[0.19207979 0.0517473 ]\n",
      "[ 0. -0.]\n",
      "[0.16211139 0.04315108]\n",
      "[ 0. -0.]\n",
      "[0.13646574 0.0359565 ]\n",
      "[ 0. -0.]\n",
      "[0.11462415 0.02994311]\n",
      "[ 0. -0.]\n",
      "[0.09609807 0.02492265]\n",
      "[ 0. -0.]\n",
      "[0.08043851 0.02073509]\n",
      "[ 0. -0.]\n",
      "[0.06724062 0.01724499]\n",
      "[ 0. -0.]\n",
      "[0.05614483 0.01433809]\n",
      "[ 0. -0.]\n",
      "[0.04683565 0.01191824]\n",
      "[ 0. -0.]\n",
      "[0.039039   0.00990475]\n",
      "[ 0. -0.]\n",
      "[0.03251863 0.00823002]\n",
      "[ 0. -0.]\n",
      "[0.02707227 0.00683748]\n",
      "[ 0. -0.]\n",
      "[0.02252765 0.0056799 ]\n",
      "[ 0. -0.]\n",
      "[0.01873869 0.00471782]\n",
      "[ 0. -0.]\n",
      "[0.01558197 0.00391839]\n",
      "[ 0. -0.]\n",
      "[0.01295356 0.0032542 ]\n",
      "[ 0. -0.]\n",
      "[0.01076611 0.00270244]\n",
      "[ 0. -0.]\n",
      "[0.00894639 0.00224413]\n",
      "[ 0. -0.]\n",
      "[0.0074331  0.00186347]\n",
      "[ 0. -0.]\n",
      "[0.00617499 0.00154733]\n",
      "[ 0. -0.]\n",
      "[0.00512927 0.00128479]\n",
      "[ 0. -0.]\n",
      "[0.00426027 0.00106677]\n",
      "[ 0. -0.]\n",
      "[0.00353823 0.00088573]\n",
      "[ 0. -0.]\n",
      "[0.00293838 0.00073541]\n",
      "[ 0. -0.]\n",
      "[0.0024401  0.00061058]\n",
      "[ 0. -0.]\n",
      "[0.00202624 0.00050694]\n",
      "[ 0. -0.]\n",
      "[0.00168251 0.00042089]\n",
      "[ 0. -0.]\n",
      "[0.00139705 0.00034944]\n",
      "[ 0. -0.]\n",
      "[0.00115999 0.00029012]\n",
      "[ 0. -0.]\n",
      "[0.00096314 0.00024087]\n",
      "[ 0. -0.]\n",
      "[0.00079968 0.00019998]\n",
      "[ 0. -0.]\n"
     ]
    },
    {
     "data": {
      "image/png": "[encoded data removed]",
      "text/plain": [
       "<Figure size 432x288 with 1 Axes>"
      ]
     },
     "metadata": {
      "needs_background": "light"
     },
     "output_type": "display_data"
    }
   ],
   "source": [
    "import os\n",
    "import numpy as np\n",
    "import pandas as pd\n",
    "import matplotlib.pyplot as plt\n",
    "from sklearn import linear_model\n",
    "\n",
    "def R2(y_data, y_model):\n",
    "    return 1 - np.sum((y_data - y_model) ** 2) / np.sum((y_data - np.mean(y_data)) ** 2)\n",
    "def MSE(y_data,y_model):\n",
    "    n = np.size(y_model)\n",
    "    return np.sum((y_data-y_model)**2)/n\n",
    "\n",
    "\n",
    "# A seed just to ensure that the random numbers are the same for every run.\n",
    "# Useful for eventual debugging.\n",
    "\n",
    "X = np.array( [ [ 2, 0], [0, 1], [0,0]])\n",
    "y = np.array( [4, 2, 3])\n",
    "\n",
    "\n",
    "# matrix inversion to find beta\n",
    "OLSbeta = np.linalg.inv(X.T @ X) @ X.T @ y\n",
    "print(OLSbeta)\n",
    "# and then make the prediction\n",
    "ytildeOLS = X @ OLSbeta\n",
    "print(\"Training MSE for OLS\")\n",
    "print(MSE(y,ytildeOLS))\n",
    "ypredictOLS = X @ OLSbeta\n",
    "\n",
    "# Repeat now for Ridge regression and various values of the regularization parameter\n",
    "I = np.eye(2,2)\n",
    "# Decide which values of lambda to use\n",
    "nlambdas = 100\n",
    "MSERidgePredict = np.zeros(nlambdas)\n",
    "MSELassoPredict = np.zeros(nlambdas)\n",
    "lambdas = np.logspace(-4, 4, nlambdas)\n",
    "for i in range(nlambdas):\n",
    "    lmb = lambdas[i]\n",
    "    Ridgebeta = np.linalg.inv(X.T @ X+lmb*I) @ X.T @ y\n",
    "    print(Ridgebeta)\n",
    "    # and then make the prediction\n",
    "    ypredictRidge = X @ Ridgebeta\n",
    "    MSERidgePredict[i] = MSE(y,ypredictRidge)\n",
    "    RegLasso = linear_model.Lasso(lmb)\n",
    "    RegLasso.fit(X,y)\n",
    "    ypredictLasso = RegLasso.predict(X)\n",
    "    print(RegLasso.coef_)\n",
    "    MSELassoPredict[i] = MSE(y,ypredictLasso)\n",
    "# Now plot the results\n",
    "plt.figure()\n",
    "plt.plot(np.log10(lambdas), MSERidgePredict, 'r--', label = 'MSE Ridge Train')\n",
    "plt.plot(np.log10(lambdas), MSELassoPredict, 'r--', label = 'MSE Lasso Train')\n",
    "plt.xlabel('log10(lambda)')\n",
    "plt.ylabel('MSE')\n",
    "plt.legend()\n",
    "plt.show()"
   ]
  },
  {
   "cell_type": "markdown",
   "metadata": {},
   "source": [
    "## Another Example, now with a polynomial fit"
   ]
  },
  {
   "cell_type": "code",
   "execution_count": 1,
   "metadata": {},
   "outputs": [
    {
     "name": "stdout",
     "output_type": "stream",
     "text": [
      "[ 2.03099776 -0.17917768  5.18029127]\n",
      "Training MSE for OLS\n",
      "0.009163470508352211\n",
      "Test MSE OLS\n",
      "0.008675369724976501\n"
     ]
    },
    {
     "data": {
      "image/png": "[encoded data removed]",
      "text/plain": [
       "<Figure size 432x288 with 1 Axes>"
      ]
     },
     "metadata": {
      "needs_background": "light"
     },
     "output_type": "display_data"
    }
   ],
   "source": [
    "import os\n",
    "import numpy as np\n",
    "import pandas as pd\n",
    "import matplotlib.pyplot as plt\n",
    "from sklearn.model_selection import train_test_split\n",
    "from sklearn import linear_model\n",
    "\n",
    "def R2(y_data, y_model):\n",
    "    return 1 - np.sum((y_data - y_model) ** 2) / np.sum((y_data - np.mean(y_data)) ** 2)\n",
    "def MSE(y_data,y_model):\n",
    "    n = np.size(y_model)\n",
    "    return np.sum((y_data-y_model)**2)/n\n",
    "\n",
    "\n",
    "# A seed just to ensure that the random numbers are the same for every run.\n",
    "# Useful for eventual debugging.\n",
    "np.random.seed(3155)\n",
    "\n",
    "x = np.random.rand(100)\n",
    "y = 2.0+5*x*x+0.1*np.random.randn(100)\n",
    "\n",
    "# number of features p (here degree of polynomial\n",
    "p = 3\n",
    "#  The design matrix now as function of a given polynomial\n",
    "X = np.zeros((len(x),p))\n",
    "X[:,0] = 1.0\n",
    "X[:,1] = x\n",
    "X[:,2] = x*x\n",
    "# We split the data in test and training data\n",
    "X_train, X_test, y_train, y_test = train_test_split(X, y, test_size=0.2)\n",
    "\n",
    "# matrix inversion to find beta\n",
    "OLSbeta = np.linalg.inv(X_train.T @ X_train) @ X_train.T @ y_train\n",
    "print(OLSbeta)\n",
    "# and then make the prediction\n",
    "ytildeOLS = X_train @ OLSbeta\n",
    "print(\"Training MSE for OLS\")\n",
    "print(MSE(y_train,ytildeOLS))\n",
    "ypredictOLS = X_test @ OLSbeta\n",
    "print(\"Test MSE OLS\")\n",
    "print(MSE(y_test,ypredictOLS))\n",
    "\n",
    "# Repeat now for Lasso and Ridge regression and various values of the regularization parameter\n",
    "I = np.eye(p,p)\n",
    "# Decide which values of lambda to use\n",
    "nlambdas = 100\n",
    "MSEPredict = np.zeros(nlambdas)\n",
    "MSETrain = np.zeros(nlambdas)\n",
    "MSELassoPredict = np.zeros(nlambdas)\n",
    "MSELassoTrain = np.zeros(nlambdas)\n",
    "lambdas = np.logspace(-4, 4, nlambdas)\n",
    "for i in range(nlambdas):\n",
    "    lmb = lambdas[i]\n",
    "    Ridgebeta = np.linalg.inv(X_train.T @ X_train+lmb*I) @ X_train.T @ y_train\n",
    "    # include lasso using Scikit-Learn\n",
    "    RegLasso = linear_model.Lasso(lmb)\n",
    "    RegLasso.fit(X_train,y_train)\n",
    "    # and then make the prediction\n",
    "    ytildeRidge = X_train @ Ridgebeta\n",
    "    ypredictRidge = X_test @ Ridgebeta\n",
    "    ytildeLasso = RegLasso.predict(X_train)\n",
    "    ypredictLasso = RegLasso.predict(X_test)\n",
    "    MSEPredict[i] = MSE(y_test,ypredictRidge)\n",
    "    MSETrain[i] = MSE(y_train,ytildeRidge)\n",
    "    MSELassoPredict[i] = MSE(y_test,ypredictLasso)\n",
    "    MSELassoTrain[i] = MSE(y_train,ytildeLasso)\n",
    "\n",
    "# Now plot the results\n",
    "plt.figure()\n",
    "plt.plot(np.log10(lambdas), MSETrain, label = 'MSE Ridge train')\n",
    "plt.plot(np.log10(lambdas), MSEPredict, 'r--', label = 'MSE Ridge Test')\n",
    "plt.plot(np.log10(lambdas), MSELassoTrain, label = 'MSE Lasso train')\n",
    "plt.plot(np.log10(lambdas), MSELassoPredict, 'r--', label = 'MSE Lasso Test')\n",
    "\n",
    "plt.xlabel('log10(lambda)')\n",
    "plt.ylabel('MSE')\n",
    "plt.legend()\n",
    "plt.show()"
   ]
  },
  {
   "cell_type": "markdown",
   "metadata": {},
   "source": [
    "## Using CVXOPT\n",
    "\n",
    "\n",
    "As a small addendum, we note that you can also solve this problem\n",
    "using the convex optimization package\n",
    "[CVXOPT](https://cvxopt.org/examples/mlbook/l1regls.html). This\n",
    "requires, in addition to having installed **CVXOPT**, you need to\n",
    "download the file *l1regl.py*.  The following code example solves the\n",
    "simpler problem we discussed above, where we have added the latter\n",
    "python file.\n",
    "\n",
    "We list first the needed file. Thereafter we set up the problem to solve."
   ]
  },
  {
   "cell_type": "code",
   "execution_count": null,
   "metadata": {},
   "outputs": [],
   "source": [
    "from cvxopt import matrix, spdiag, mul, div, sqrt, normal, setseed\n",
    "from cvxopt import blas, lapack, solvers, sparse, spmatrix\n",
    "import math\n",
    "\n",
    "try:\n",
    "    import mosek\n",
    "    import sys\n",
    "    __MOSEK = True\n",
    "except: __MOSEK = False\n",
    "\n",
    "if __MOSEK:\n",
    "\n",
    "    def l1regls_mosek(A, b):\n",
    "        \"\"\"\n",
    "\n",
    "        Returns the solution of l1-norm regularized least-squares problem\n",
    "\n",
    "            minimize    || A*x - b ||_2^2  + e'*u\n",
    "\n",
    "            subject to  -u <= x <= u\n",
    "\n",
    "        \"\"\"\n",
    "\n",
    "        m, n = A.size\n",
    "\n",
    "        env  = mosek.Env()\n",
    "        task = env.Task(0,0)\n",
    "        task.set_Stream(mosek.streamtype.log, lambda x: sys.stdout.write(x))\n",
    "\n",
    "        task.appendvars( 2*n)            # number of variables\n",
    "        task.appendcons( 2*n)            # number of constraints\n",
    "\n",
    "        # input quadratic objective\n",
    "        Q = matrix(0.0, (n,n)) \n",
    "        blas.syrk(A, Q, alpha = 2.0, trans='T')\n",
    "\n",
    "        I = []\n",
    "        for i in range(n):\n",
    "            I.extend(range(i,n))\n",
    "\n",
    "        J = []\n",
    "        for i in range(n):\n",
    "            J.extend((n-i)*[i])\n",
    "\n",
    "        task.putqobj(I, J, list(Q[matrix(I) + matrix(J)*n]))\n",
    "        task.putclist(range(2*n), list(-2*A.T*b) + n*[1.0])  # setup linear objective\n",
    "\n",
    "        # input constraint matrix row by row\n",
    "        for i in range(n):\n",
    "            task.putarow(   i, [i, n+i], [1.0, -1.0])\n",
    "            task.putarow( n+i, [i, n+i], [1.0,  1.0])\n",
    "\n",
    "        # setup bounds on constraints\n",
    "        task.putboundslice(mosek.accmode.con,\n",
    "                           0, n, n*[mosek.boundkey.up], n*[0.0], n*[0.0])\n",
    "        task.putboundslice(mosek.accmode.con,\n",
    "                           n, 2*n, n*[mosek.boundkey.lo], n*[0.0], n*[0.0])\n",
    "\n",
    "        # setup variable bounds\n",
    "        task.putboundslice(mosek.accmode.var,\n",
    "                           0, 2*n, 2*n*[mosek.boundkey.fr], 2*n*[0.0], 2*n*[0.0])\n",
    "\n",
    "        # optimize the task\n",
    "        task.putobjsense(mosek.objsense.minimize)\n",
    "        task.optimize()\n",
    "        task.solutionsummary(mosek.streamtype.log)\n",
    "        x = n*[0.0]\n",
    "        task.getsolutionslice(mosek.soltype.itr, mosek.solitem.xx, 0, n, x)\n",
    "\n",
    "        return matrix(x)\n",
    "\n",
    "    def l1regls_mosek2(A, b):\n",
    "        \"\"\"\n",
    "\n",
    "        Returns the solution of l1-norm regularized least-squares problem\n",
    "\n",
    "            minimize     w'*w + e'*u\n",
    "\n",
    "            subject to  -u <= x <= u\n",
    "\n",
    "                         A*x - w = b\n",
    "\n",
    "        \"\"\"\n",
    "\n",
    "        m, n = A.size\n",
    "\n",
    "        env  = mosek.Env()\n",
    "        task = env.Task(0,0)\n",
    "        task.set_Stream(mosek.streamtype.log, lambda x: sys.stdout.write(x))\n",
    "\n",
    "        task.appendvars(2*n + m)     # number of variables\n",
    "        task.appendcons(2*n + m)     # number of constraints\n",
    "\n",
    "        # input quadratic objective\n",
    "        task.putqobj(range(2*n,2*n+m), range(2*n,2*n+m), m*[2.0])\n",
    "\n",
    "        task.putclist(range(2*n+m), n*[0.0] + n*[1.0] + m*[0.0])  # setup linear objective\n",
    "\n",
    "        # input constraint matrix row by row\n",
    "        for i in range(n):\n",
    "            task.putarow(   i, [i, n+i], [1.0, -1.0])\n",
    "            task.putarow( n+i, [i, n+i], [1.0,  1.0])\n",
    "\n",
    "        for i in range(m):\n",
    "            task.putarow( 2*n+i, range(n) + [2*n+i], list(A[i,:]) + [-1.0])\n",
    "\n",
    "        # setup bounds on constraints\n",
    "        task.putboundslice(mosek.accmode.con,\n",
    "                           0, n, n*[mosek.boundkey.up], n*[0.0], n*[0.0])\n",
    "        task.putboundslice(mosek.accmode.con,\n",
    "                           n, 2*n, n*[mosek.boundkey.lo], n*[0.0], n*[0.0])\n",
    "        task.putboundslice(mosek.accmode.con,\n",
    "                           2*n, 2*n+m, m*[mosek.boundkey.fx], list(b), list(b))\n",
    "\n",
    "        # setup variable bounds\n",
    "        task.putboundslice(mosek.accmode.var, 0, 2*n+m, (2*n+m)*[mosek.boundkey.fr], \n",
    "                           (2*n+m)*[0.0], (2*n+m)*[0.0])\n",
    "\n",
    "        # optimize the task\n",
    "        task.putobjsense(mosek.objsense.minimize)\n",
    "        task.optimize()\n",
    "        task.solutionsummary(mosek.streamtype.log)\n",
    "        x = n*[0.0]\n",
    "        task.getsolutionslice(mosek.soltype.itr, mosek.solitem.xx, 0, n, x)\n",
    "\n",
    "        return matrix(x)\n",
    "\n",
    "def l1regls(A, b):\n",
    "    \"\"\"\n",
    "    \n",
    "    Returns the solution of l1-norm regularized least-squares problem\n",
    "  \n",
    "        minimize || A*x - b ||_2^2  + || x ||_1.\n",
    "\n",
    "    \"\"\"\n",
    "\n",
    "    m, n = A.size\n",
    "    q = matrix(1.0, (2*n,1))\n",
    "    q[:n] = -2.0 * A.T * b\n",
    "\n",
    "    def P(u, v, alpha = 1.0, beta = 0.0 ):\n",
    "        \"\"\"\n",
    "            v := alpha * 2.0 * [ A'*A, 0; 0, 0 ] * u + beta * v \n",
    "        \"\"\"\n",
    "        v *= beta\n",
    "        v[:n] += alpha * 2.0 * A.T * (A * u[:n])\n",
    "\n",
    "\n",
    "    def G(u, v, alpha=1.0, beta=0.0, trans='N'):\n",
    "        \"\"\"\n",
    "            v := alpha*[I, -I; -I, -I] * u + beta * v  (trans = 'N' or 'T')\n",
    "        \"\"\"\n",
    "\n",
    "        v *= beta\n",
    "        v[:n] += alpha*(u[:n] - u[n:])\n",
    "        v[n:] += alpha*(-u[:n] - u[n:])\n",
    "\n",
    "    h = matrix(0.0, (2*n,1))\n",
    "\n",
    "\n",
    "    # Customized solver for the KKT system \n",
    "    #\n",
    "    #     [  2.0*A'*A  0    I      -I     ] [x[:n] ]     [bx[:n] ]\n",
    "    #     [  0         0   -I      -I     ] [x[n:] ]  =  [bx[n:] ].\n",
    "    #     [  I        -I   -D1^-1   0     ] [zl[:n]]     [bzl[:n]]\n",
    "    #     [ -I        -I    0      -D2^-1 ] [zl[n:]]     [bzl[n:]]\n",
    "    #\n",
    "    # where D1 = W['di'][:n]**2, D2 = W['di'][:n]**2.\n",
    "    #    \n",
    "    # We first eliminate zl and x[n:]:\n",
    "    #\n",
    "    #     ( 2*A'*A + 4*D1*D2*(D1+D2)^-1 ) * x[:n] = \n",
    "    #         bx[:n] - (D2-D1)*(D1+D2)^-1 * bx[n:] + \n",
    "    #         D1 * ( I + (D2-D1)*(D1+D2)^-1 ) * bzl[:n] - \n",
    "    #         D2 * ( I - (D2-D1)*(D1+D2)^-1 ) * bzl[n:]           \n",
    "    #\n",
    "    #     x[n:] = (D1+D2)^-1 * ( bx[n:] - D1*bzl[:n]  - D2*bzl[n:] ) \n",
    "    #         - (D2-D1)*(D1+D2)^-1 * x[:n]         \n",
    "    #\n",
    "    #     zl[:n] = D1 * ( x[:n] - x[n:] - bzl[:n] )\n",
    "    #     zl[n:] = D2 * (-x[:n] - x[n:] - bzl[n:] ).\n",
    "    #\n",
    "    # The first equation has the form\n",
    "    #\n",
    "    #     (A'*A + D)*x[:n]  =  rhs\n",
    "    #\n",
    "    # and is equivalent to\n",
    "    #\n",
    "    #     [ D    A' ] [ x:n] ]  = [ rhs ]\n",
    "    #     [ A   -I  ] [ v    ]    [ 0   ].\n",
    "    #\n",
    "    # It can be solved as \n",
    "    #\n",
    "    #     ( A*D^-1*A' + I ) * v = A * D^-1 * rhs\n",
    "    #     x[:n] = D^-1 * ( rhs - A'*v ).\n",
    "\n",
    "    S = matrix(0.0, (m,m))\n",
    "    Asc = matrix(0.0, (m,n))\n",
    "    v = matrix(0.0, (m,1))\n",
    "\n",
    "    def Fkkt(W):\n",
    "\n",
    "        # Factor \n",
    "        #\n",
    "        #     S = A*D^-1*A' + I \n",
    "        #\n",
    "        # where D = 2*D1*D2*(D1+D2)^-1, D1 = d[:n]**-2, D2 = d[n:]**-2.\n",
    "\n",
    "        d1, d2 = W['di'][:n]**2, W['di'][n:]**2\n",
    "\n",
    "        # ds is square root of diagonal of D\n",
    "        ds = math.sqrt(2.0) * div( mul( W['di'][:n], W['di'][n:]), \n",
    "            sqrt(d1+d2) )\n",
    "        d3 =  div(d2 - d1, d1 + d2)\n",
    "     \n",
    "        # Asc = A*diag(d)^-1/2\n",
    "        Asc = A * spdiag(ds**-1)\n",
    "\n",
    "        # S = I + A * D^-1 * A'\n",
    "        blas.syrk(Asc, S)\n",
    "        S[::m+1] += 1.0 \n",
    "        lapack.potrf(S)\n",
    "\n",
    "        def g(x, y, z):\n",
    "\n",
    "            x[:n] = 0.5 * ( x[:n] - mul(d3, x[n:]) + \n",
    "                mul(d1, z[:n] + mul(d3, z[:n])) - mul(d2, z[n:] - \n",
    "                mul(d3, z[n:])) )\n",
    "            x[:n] = div( x[:n], ds) \n",
    "\n",
    "            # Solve\n",
    "            #\n",
    "            #     S * v = 0.5 * A * D^-1 * ( bx[:n] - \n",
    "            #         (D2-D1)*(D1+D2)^-1 * bx[n:] + \n",
    "            #         D1 * ( I + (D2-D1)*(D1+D2)^-1 ) * bzl[:n] - \n",
    "            #         D2 * ( I - (D2-D1)*(D1+D2)^-1 ) * bzl[n:] )\n",
    "                \n",
    "            blas.gemv(Asc, x, v)\n",
    "            lapack.potrs(S, v)\n",
    "            \n",
    "            # x[:n] = D^-1 * ( rhs - A'*v ).\n",
    "            blas.gemv(Asc, v, x, alpha=-1.0, beta=1.0, trans='T')\n",
    "            x[:n] = div(x[:n], ds)\n",
    "\n",
    "            # x[n:] = (D1+D2)^-1 * ( bx[n:] - D1*bzl[:n]  - D2*bzl[n:] ) \n",
    "            #         - (D2-D1)*(D1+D2)^-1 * x[:n]         \n",
    "            x[n:] = div( x[n:] - mul(d1, z[:n]) - mul(d2, z[n:]), d1+d2 )\\\n",
    "                - mul( d3, x[:n] )\n",
    "                \n",
    "            # zl[:n] = D1^1/2 * (  x[:n] - x[n:] - bzl[:n] )\n",
    "            # zl[n:] = D2^1/2 * ( -x[:n] - x[n:] - bzl[n:] ).\n",
    "            z[:n] = mul( W['di'][:n],  x[:n] - x[n:] - z[:n] ) \n",
    "            z[n:] = mul( W['di'][n:], -x[:n] - x[n:] - z[n:] ) \n",
    "\n",
    "        return g\n",
    "\n",
    "    return solvers.coneqp(P, q, G, h, kktsolver = Fkkt)['x'][:n]"
   ]
  },
  {
   "cell_type": "markdown",
   "metadata": {},
   "source": [
    "## The simpler Example"
   ]
  },
  {
   "cell_type": "code",
   "execution_count": null,
   "metadata": {},
   "outputs": [],
   "source": [
    "from cvxopt import matrix, normal\n",
    "\n",
    "X = matrix( [ [ 2, 0, 1], [0, 1, 3]])\n",
    "y = matrix( [4, 2, 3])\n",
    "x = l1regls(X,y)"
   ]
  },
  {
   "cell_type": "markdown",
   "metadata": {},
   "source": [
    "## Friday September 10\n",
    "\n",
    "\n",
    "\n",
    "<!-- !split  -->\n",
    "## Linking the regression analysis with a statistical interpretation\n",
    "\n",
    "We will now couple the discussions of ordinary least squares, Ridge\n",
    "and Lasso regression with a statistical interpretation, that is we\n",
    "move from a linear algebra analysis to a statistical analysis. In\n",
    "particular, we will focus on what the regularization terms can result\n",
    "in.  We will amongst other things show that the regularization\n",
    "parameter can reduce considerably the variance of the parameters\n",
    "$\\beta$.\n",
    "\n",
    "\n",
    "The\n",
    "advantage of doing linear regression is that we actually end up with\n",
    "analytical expressions for several statistical quantities.  \n",
    "Standard least squares and Ridge regression  allow us to\n",
    "derive quantities like the variance and other expectation values in a\n",
    "rather straightforward way.\n",
    "\n",
    "\n",
    "It is assumed that $\\varepsilon_i\n",
    "\\sim \\mathcal{N}(0, \\sigma^2)$ and the $\\varepsilon_{i}$ are\n",
    "independent, i.e.:"
   ]
  },
  {
   "cell_type": "markdown",
   "metadata": {},
   "source": [
    "$$\n",
    "\\begin{align*} \n",
    "\\mbox{Cov}(\\varepsilon_{i_1},\n",
    "\\varepsilon_{i_2}) & = \\left\\{ \\begin{array}{lcc} \\sigma^2 & \\mbox{if}\n",
    "& i_1 = i_2, \\\\ 0 & \\mbox{if} & i_1 \\not= i_2.  \\end{array} \\right.\n",
    "\\end{align*}\n",
    "$$"
   ]
  },
  {
   "cell_type": "markdown",
   "metadata": {},
   "source": [
    "The randomness of $\\varepsilon_i$ implies that\n",
    "$\\mathbf{y}_i$ is also a random variable. In particular,\n",
    "$\\mathbf{y}_i$ is normally distributed, because $\\varepsilon_i \\sim\n",
    "\\mathcal{N}(0, \\sigma^2)$ and $\\mathbf{X}_{i,\\ast} \\, \\boldsymbol{\\beta}$ is a\n",
    "non-random scalar. To specify the parameters of the distribution of\n",
    "$\\mathbf{y}_i$ we need to calculate its first two moments. \n",
    "\n",
    "Recall that $\\boldsymbol{X}$ is a matrix of dimensionality $n\\times p$. The\n",
    "notation above $\\mathbf{X}_{i,\\ast}$ means that we are looking at the\n",
    "row number $i$ and perform a sum over all values $p$.\n",
    "\n",
    "\n",
    "## Assumptions made\n",
    "\n",
    "The assumption we have made here can be summarized as (and this is going to be useful when we discuss the bias-variance trade off)\n",
    "that there exists a function $f(\\boldsymbol{x})$ and  a normal distributed error $\\boldsymbol{\\varepsilon}\\sim \\mathcal{N}(0, \\sigma^2)$\n",
    "which describe our data"
   ]
  },
  {
   "cell_type": "markdown",
   "metadata": {},
   "source": [
    "$$\n",
    "\\boldsymbol{y} = f(\\boldsymbol{x})+\\boldsymbol{\\varepsilon}\n",
    "$$"
   ]
  },
  {
   "cell_type": "markdown",
   "metadata": {},
   "source": [
    "We approximate this function with our model from the solution of the linear regression equations, that is our\n",
    "function $f$ is approximated by $\\boldsymbol{\\tilde{y}}$ where we want to minimize $(\\boldsymbol{y}-\\boldsymbol{\\tilde{y}})^2$, our MSE, with"
   ]
  },
  {
   "cell_type": "markdown",
   "metadata": {},
   "source": [
    "$$\n",
    "\\boldsymbol{\\tilde{y}} = \\boldsymbol{X}\\boldsymbol{\\beta}.\n",
    "$$"
   ]
  },
  {
   "cell_type": "markdown",
   "metadata": {},
   "source": [
    "## Expectation value and variance\n",
    "\n",
    "We can calculate the expectation value of $\\boldsymbol{y}$ for a given element $i$"
   ]
  },
  {
   "cell_type": "markdown",
   "metadata": {},
   "source": [
    "$$\n",
    "\\begin{align*} \n",
    "\\mathbb{E}(y_i) & =\n",
    "\\mathbb{E}(\\mathbf{X}_{i, \\ast} \\, \\boldsymbol{\\beta}) + \\mathbb{E}(\\varepsilon_i)\n",
    "\\, \\, \\, = \\, \\, \\, \\mathbf{X}_{i, \\ast} \\, \\beta, \n",
    "\\end{align*}\n",
    "$$"
   ]
  },
  {
   "cell_type": "markdown",
   "metadata": {},
   "source": [
    "while\n",
    "its variance is"
   ]
  },
  {
   "cell_type": "markdown",
   "metadata": {},
   "source": [
    "$$\n",
    "\\begin{align*} \\mbox{Var}(y_i) & = \\mathbb{E} \\{ [y_i\n",
    "- \\mathbb{E}(y_i)]^2 \\} \\, \\, \\, = \\, \\, \\, \\mathbb{E} ( y_i^2 ) -\n",
    "[\\mathbb{E}(y_i)]^2  \\\\  & = \\mathbb{E} [ ( \\mathbf{X}_{i, \\ast} \\,\n",
    "\\beta + \\varepsilon_i )^2] - ( \\mathbf{X}_{i, \\ast} \\, \\boldsymbol{\\beta})^2 \\\\ &\n",
    "= \\mathbb{E} [ ( \\mathbf{X}_{i, \\ast} \\, \\boldsymbol{\\beta})^2 + 2 \\varepsilon_i\n",
    "\\mathbf{X}_{i, \\ast} \\, \\boldsymbol{\\beta} + \\varepsilon_i^2 ] - ( \\mathbf{X}_{i,\n",
    "\\ast} \\, \\beta)^2 \\\\  & = ( \\mathbf{X}_{i, \\ast} \\, \\boldsymbol{\\beta})^2 + 2\n",
    "\\mathbb{E}(\\varepsilon_i) \\mathbf{X}_{i, \\ast} \\, \\boldsymbol{\\beta} +\n",
    "\\mathbb{E}(\\varepsilon_i^2 ) - ( \\mathbf{X}_{i, \\ast} \\, \\boldsymbol{\\beta})^2 \n",
    "\\\\ & = \\mathbb{E}(\\varepsilon_i^2 ) \\, \\, \\, = \\, \\, \\,\n",
    "\\mbox{Var}(\\varepsilon_i) \\, \\, \\, = \\, \\, \\, \\sigma^2.  \n",
    "\\end{align*}\n",
    "$$"
   ]
  },
  {
   "cell_type": "markdown",
   "metadata": {},
   "source": [
    "Hence, $y_i \\sim \\mathcal{N}( \\mathbf{X}_{i, \\ast} \\, \\boldsymbol{\\beta}, \\sigma^2)$, that is $\\boldsymbol{y}$ follows a normal distribution with \n",
    "mean value $\\boldsymbol{X}\\boldsymbol{\\beta}$ and variance $\\sigma^2$ (not be confused with the singular values of the SVD). \n",
    "\n",
    "## Expectation value and variance for $\\boldsymbol{\\beta}$\n",
    "\n",
    "With the OLS expressions for the parameters $\\boldsymbol{\\beta}$ we can evaluate the expectation value"
   ]
  },
  {
   "cell_type": "markdown",
   "metadata": {},
   "source": [
    "$$\n",
    "\\mathbb{E}(\\boldsymbol{\\beta}) = \\mathbb{E}[ (\\mathbf{X}^{\\top} \\mathbf{X})^{-1}\\mathbf{X}^{T} \\mathbf{Y}]=(\\mathbf{X}^{T} \\mathbf{X})^{-1}\\mathbf{X}^{T} \\mathbb{E}[ \\mathbf{Y}]=(\\mathbf{X}^{T} \\mathbf{X})^{-1} \\mathbf{X}^{T}\\mathbf{X}\\boldsymbol{\\beta}=\\boldsymbol{\\beta}.\n",
    "$$"
   ]
  },
  {
   "cell_type": "markdown",
   "metadata": {},
   "source": [
    "This means that the estimator of the regression parameters is unbiased.\n",
    "\n",
    "We can also calculate the variance\n",
    "\n",
    "The variance of $\\boldsymbol{\\beta}$ is"
   ]
  },
  {
   "cell_type": "markdown",
   "metadata": {},
   "source": [
    "$$\n",
    "\\begin{eqnarray*}\n",
    "\\mbox{Var}(\\boldsymbol{\\beta}) & = & \\mathbb{E} \\{ [\\boldsymbol{\\beta} - \\mathbb{E}(\\boldsymbol{\\beta})] [\\boldsymbol{\\beta} - \\mathbb{E}(\\boldsymbol{\\beta})]^{T} \\}\n",
    "\\\\\n",
    "& = & \\mathbb{E} \\{ [(\\mathbf{X}^{T} \\mathbf{X})^{-1} \\, \\mathbf{X}^{T} \\mathbf{Y} - \\boldsymbol{\\beta}] \\, [(\\mathbf{X}^{T} \\mathbf{X})^{-1} \\, \\mathbf{X}^{T} \\mathbf{Y} - \\boldsymbol{\\beta}]^{T} \\}\n",
    "\\\\\n",
    "% & = & \\mathbb{E} \\{ [(\\mathbf{X}^{T} \\mathbf{X})^{-1} \\, \\mathbf{X}^{T} \\mathbf{Y}] \\, [(\\mathbf{X}^{T} \\mathbf{X})^{-1} \\, \\mathbf{X}^{T} \\mathbf{Y}]^{T} \\} - \\boldsymbol{\\beta} \\, \\boldsymbol{\\beta}^{T}\n",
    "% \\\\\n",
    "% & = & \\mathbb{E} \\{ (\\mathbf{X}^{T} \\mathbf{X})^{-1} \\, \\mathbf{X}^{T} \\mathbf{Y} \\, \\mathbf{Y}^{T} \\, \\mathbf{X} \\, (\\mathbf{X}^{T} \\mathbf{X})^{-1}  \\} - \\boldsymbol{\\beta} \\, \\boldsymbol{\\beta}^{T}\n",
    "% \\\\\n",
    "& = & (\\mathbf{X}^{T} \\mathbf{X})^{-1} \\, \\mathbf{X}^{T} \\, \\mathbb{E} \\{ \\mathbf{Y} \\, \\mathbf{Y}^{T} \\} \\, \\mathbf{X} \\, (\\mathbf{X}^{T} \\mathbf{X})^{-1} - \\boldsymbol{\\beta} \\, \\boldsymbol{\\beta}^{T}\n",
    "\\\\\n",
    "& = & (\\mathbf{X}^{T} \\mathbf{X})^{-1} \\, \\mathbf{X}^{T} \\, \\{ \\mathbf{X} \\, \\boldsymbol{\\beta} \\, \\boldsymbol{\\beta}^{T} \\,  \\mathbf{X}^{T} + \\sigma^2 \\} \\, \\mathbf{X} \\, (\\mathbf{X}^{T} \\mathbf{X})^{-1} - \\boldsymbol{\\beta} \\, \\boldsymbol{\\beta}^{T}\n",
    "% \\\\\n",
    "% & = & (\\mathbf{X}^T \\mathbf{X})^{-1} \\, \\mathbf{X}^T \\, \\mathbf{X} \\, \\boldsymbol{\\beta} \\, \\boldsymbol{\\beta}^T \\,  \\mathbf{X}^T \\, \\mathbf{X} \\, (\\mathbf{X}^T % \\mathbf{X})^{-1}\n",
    "% \\\\\n",
    "% & & + \\, \\, \\sigma^2 \\, (\\mathbf{X}^T \\mathbf{X})^{-1} \\, \\mathbf{X}^T  \\, \\mathbf{X} \\, (\\mathbf{X}^T \\mathbf{X})^{-1} - \\boldsymbol{\\beta} \\boldsymbol{\\beta}^T\n",
    "\\\\\n",
    "& = & \\boldsymbol{\\beta} \\, \\boldsymbol{\\beta}^{T}  + \\sigma^2 \\, (\\mathbf{X}^{T} \\mathbf{X})^{-1} - \\boldsymbol{\\beta} \\, \\boldsymbol{\\beta}^{T}\n",
    "\\, \\, \\, = \\, \\, \\, \\sigma^2 \\, (\\mathbf{X}^{T} \\mathbf{X})^{-1},\n",
    "\\end{eqnarray*}\n",
    "$$"
   ]
  },
  {
   "cell_type": "markdown",
   "metadata": {},
   "source": [
    "where we have used  that $\\mathbb{E} (\\mathbf{Y} \\mathbf{Y}^{T}) =\n",
    "\\mathbf{X} \\, \\boldsymbol{\\beta} \\, \\boldsymbol{\\beta}^{T} \\, \\mathbf{X}^{T} +\n",
    "\\sigma^2 \\, \\mathbf{I}_{nn}$. From $\\mbox{Var}(\\boldsymbol{\\beta}) = \\sigma^2\n",
    "\\, (\\mathbf{X}^{T} \\mathbf{X})^{-1}$, one obtains an estimate of the\n",
    "variance of the estimate of the $j$-th regression coefficient:\n",
    "$\\boldsymbol{\\sigma}^2 (\\boldsymbol{\\beta}_j ) = \\boldsymbol{\\sigma}^2 [(\\mathbf{X}^{T} \\mathbf{X})^{-1}]_{jj} $. This may be used to\n",
    "construct a confidence interval for the estimates.\n",
    "\n",
    "\n",
    "In a similar way, we can obtain analytical expressions for say the\n",
    "expectation values of the parameters $\\boldsymbol{\\beta}$ and their variance\n",
    "when we employ Ridge regression, allowing us again to define a confidence interval. \n",
    "\n",
    "It is rather straightforward to show that"
   ]
  },
  {
   "cell_type": "markdown",
   "metadata": {},
   "source": [
    "$$\n",
    "\\mathbb{E} \\big[ \\boldsymbol{\\beta}^{\\mathrm{Ridge}} \\big]=(\\mathbf{X}^{T} \\mathbf{X} + \\lambda \\mathbf{I}_{pp})^{-1} (\\mathbf{X}^{\\top} \\mathbf{X})\\boldsymbol{\\beta}^{\\mathrm{OLS}}.\n",
    "$$"
   ]
  },
  {
   "cell_type": "markdown",
   "metadata": {},
   "source": [
    "We see clearly that \n",
    "$\\mathbb{E} \\big[ \\boldsymbol{\\beta}^{\\mathrm{Ridge}} \\big] \\not= \\boldsymbol{\\beta}^{\\mathrm{OLS}}$ for any $\\lambda > 0$. We say then that the ridge estimator is biased.\n",
    "\n",
    "We can also compute the variance as"
   ]
  },
  {
   "cell_type": "markdown",
   "metadata": {},
   "source": [
    "$$\n",
    "\\mbox{Var}[\\boldsymbol{\\beta}^{\\mathrm{Ridge}}]=\\sigma^2[  \\mathbf{X}^{T} \\mathbf{X} + \\lambda \\mathbf{I} ]^{-1}  \\mathbf{X}^{T} \\mathbf{X} \\{ [  \\mathbf{X}^{\\top} \\mathbf{X} + \\lambda \\mathbf{I} ]^{-1}\\}^{T},\n",
    "$$"
   ]
  },
  {
   "cell_type": "markdown",
   "metadata": {},
   "source": [
    "and it is easy to see that if the parameter $\\lambda$ goes to infinity then the variance of Ridge parameters $\\boldsymbol{\\beta}$ goes to zero. \n",
    "\n",
    "With this, we can compute the difference"
   ]
  },
  {
   "cell_type": "markdown",
   "metadata": {},
   "source": [
    "$$\n",
    "\\mbox{Var}[\\boldsymbol{\\beta}^{\\mathrm{OLS}}]-\\mbox{Var}(\\boldsymbol{\\beta}^{\\mathrm{Ridge}})=\\sigma^2 [  \\mathbf{X}^{T} \\mathbf{X} + \\lambda \\mathbf{I} ]^{-1}[ 2\\lambda\\mathbf{I} + \\lambda^2 (\\mathbf{X}^{T} \\mathbf{X})^{-1} ] \\{ [  \\mathbf{X}^{T} \\mathbf{X} + \\lambda \\mathbf{I} ]^{-1}\\}^{T}.\n",
    "$$"
   ]
  },
  {
   "cell_type": "markdown",
   "metadata": {},
   "source": [
    "The difference is non-negative definite since each component of the\n",
    "matrix product is non-negative definite. \n",
    "This means the variance we obtain with the standard OLS will always for $\\lambda > 0$ be larger than the variance of $\\boldsymbol{\\beta}$ obtained with the Ridge estimator. This has interesting consequences when we discuss the so-called bias-variance trade-off below. \n",
    "\n",
    "\n",
    "## Deriving OLS from a probability distribution\n",
    "\n",
    "Our basic assumption when we derived the OLS equations was to assume\n",
    "that our output is determined by a given continuous function\n",
    "$f(\\boldsymbol{x})$ and a random noise $\\boldsymbol{\\epsilon}$ given by the normal\n",
    "distribution with zero mean value and an undetermined variance\n",
    "$\\sigma^2$.\n",
    "\n",
    "We found above that the outputs $\\boldsymbol{y}$ have a mean value given by\n",
    "$\\boldsymbol{X}\\hat{\\boldsymbol{\\beta}}$ and variance $\\sigma^2$. Since the entries to\n",
    "the design matrix are not stochastic variables, we can assume that the\n",
    "probability distribution of our targets is also a normal distribution\n",
    "but now with mean value $\\boldsymbol{X}\\hat{\\boldsymbol{\\beta}}$. This means that a\n",
    "single output $y_i$ is given by the Gaussian distribution"
   ]
  },
  {
   "cell_type": "markdown",
   "metadata": {},
   "source": [
    "$$\n",
    "y_i\\sim \\mathcal{N}(\\boldsymbol{X}_{i,*}\\boldsymbol{\\beta}, \\sigma^2)=\\frac{1}{\\sqrt{2\\pi\\sigma^2}}\\exp{\\left[-\\frac{(y_i-\\boldsymbol{X}_{i,*}\\boldsymbol{\\beta})^2}{2\\sigma^2}\\right]}.\n",
    "$$"
   ]
  },
  {
   "cell_type": "markdown",
   "metadata": {},
   "source": [
    "## Independent and Identically Distrubuted (iid)\n",
    "\n",
    "We assume now that the various $y_i$ values are stochastically distributed according to the above Gaussian distribution. \n",
    "We define this distribution as"
   ]
  },
  {
   "cell_type": "markdown",
   "metadata": {},
   "source": [
    "$$\n",
    "p(y_i, \\boldsymbol{X}\\vert\\boldsymbol{\\beta})=\\frac{1}{\\sqrt{2\\pi\\sigma^2}}\\exp{\\left[-\\frac{(y_i-\\boldsymbol{X}_{i,*}\\boldsymbol{\\beta})^2}{2\\sigma^2}\\right]},\n",
    "$$"
   ]
  },
  {
   "cell_type": "markdown",
   "metadata": {},
   "source": [
    "which reads as finding the likelihood of an event $y_i$ with the input variables $\\boldsymbol{X}$ given the parameters (to be determined) $\\boldsymbol{\\beta}$.\n",
    "\n",
    "Since these events are assumed to be independent and identicall distributed we can build the probability distribution function (PDF) for all possible event $\\boldsymbol{y}$ as the product of the single events, that is we have"
   ]
  },
  {
   "cell_type": "markdown",
   "metadata": {},
   "source": [
    "$$\n",
    "p(\\boldsymbol{y},\\boldsymbol{X}\\vert\\boldsymbol{\\beta})=\\prod_{i=0}^{n-1}\\frac{1}{\\sqrt{2\\pi\\sigma^2}}\\exp{\\left[-\\frac{(y_i-\\boldsymbol{X}_{i,*}\\boldsymbol{\\beta})^2}{2\\sigma^2}\\right]}=\\prod_{i=0}^{n-1}p(y_i,\\boldsymbol{X}\\vert\\boldsymbol{\\beta}).\n",
    "$$"
   ]
  },
  {
   "cell_type": "markdown",
   "metadata": {},
   "source": [
    "We will write this in a more compact form reserving $\\boldsymbol{D}$ for the domain of events, including the ouputs (targets) and the inputs. That is\n",
    "in case we have a simple one-dimensional input and output case"
   ]
  },
  {
   "cell_type": "markdown",
   "metadata": {},
   "source": [
    "$$\n",
    "\\boldsymbol{D}=[(x_0,y_0), (x_1,y_1),\\dots, (x_{n-1},y_{n-1})].\n",
    "$$"
   ]
  },
  {
   "cell_type": "markdown",
   "metadata": {},
   "source": [
    "In the more general case the various inputs should be replaced by the possible features represented by the input data set $\\boldsymbol{X}$. \n",
    "We can now rewrite the above probability as"
   ]
  },
  {
   "cell_type": "markdown",
   "metadata": {},
   "source": [
    "$$\n",
    "p(\\boldsymbol{D}\\vert\\boldsymbol{\\beta})=\\prod_{i=0}^{n-1}\\frac{1}{\\sqrt{2\\pi\\sigma^2}}\\exp{\\left[-\\frac{(y_i-\\boldsymbol{X}_{i,*}\\boldsymbol{\\beta})^2}{2\\sigma^2}\\right]}.\n",
    "$$"
   ]
  },
  {
   "cell_type": "markdown",
   "metadata": {},
   "source": [
    "It is a conditional probability (see below) and reads as the likelihood of a domain of events $\\boldsymbol{D}$ given a set of parameters $\\boldsymbol{\\beta}$.\n",
    "\n",
    "## Maximum Likelihood Estimation (MLE)\n",
    "\n",
    "In statistics, maximum likelihood estimation (MLE) is a method of\n",
    "estimating the parameters of an assumed probability distribution,\n",
    "given some observed data. This is achieved by maximizing a likelihood\n",
    "function so that, under the assumed statistical model, the observed\n",
    "data is the most probable. \n",
    "\n",
    "\n",
    "We will assume here that our events are given by the above Gaussian\n",
    "distribution and we will determine the optimal parameters $\\beta$ by\n",
    "maximizing the above PDF. However, computing the derivatives of a\n",
    "product function is cumbersome and can easily lead to overflow and/or\n",
    "underflowproblems, with potentials for loss of numerical precision.\n",
    "\n",
    "\n",
    "In practice, it is more convenient to maximize the logarithm of the\n",
    "PDF because it is a monotonically increasing function of the argument.\n",
    "Alternatively, and this will be our option, we will minimize the\n",
    "negative of the logarithm since this is a monotonically decreasing\n",
    "function.\n",
    "\n",
    "Note also that maximization/minimization of the logarithm of the PDF\n",
    "is equivalent to the maximization/minimization of the function itself.\n",
    "\n",
    "\n",
    "\n",
    "## A new Cost Function\n",
    "\n",
    "We could now define a new cost function to minimize, namely the negative logarithm of the above PDF"
   ]
  },
  {
   "cell_type": "markdown",
   "metadata": {},
   "source": [
    "$$\n",
    "C(\\boldsymbol{\\beta}=-\\log{\\prod_{i=0}^{n-1}p(y_i,\\boldsymbol{X}\\vert\\boldsymbol{\\beta})}=-\\sum_{i=0}^{n-1}\\log{p(y_i,\\boldsymbol{X}\\vert\\boldsymbol{\\beta})},\n",
    "$$"
   ]
  },
  {
   "cell_type": "markdown",
   "metadata": {},
   "source": [
    "which becomes"
   ]
  },
  {
   "cell_type": "markdown",
   "metadata": {},
   "source": [
    "$$\n",
    "C(\\boldsymbol{\\beta}=\\frac{n}{2}\\log{2\\pi\\sigma^2}+\\frac{\\vert\\vert (\\boldsymbol{y}-\\boldsymbol{X}\\boldsymbol{\\beta})\\vert\\vert_2^2}{2\\sigma^2}.\n",
    "$$"
   ]
  },
  {
   "cell_type": "markdown",
   "metadata": {},
   "source": [
    "Taking the derivative of the *new* cost function with respect to the parameters $\\beta$ we recognize our familiar OLS equation, namely"
   ]
  },
  {
   "cell_type": "markdown",
   "metadata": {},
   "source": [
    "$$\n",
    "\\boldsymbol{X}^T\\left(\\boldsymbol{y}-\\boldsymbol{X}\\boldsymbol{\\beta}\\right) =0,\n",
    "$$"
   ]
  },
  {
   "cell_type": "markdown",
   "metadata": {},
   "source": [
    "which leads to the well-known OLS equation for the optimal paramters $\\beta$"
   ]
  },
  {
   "cell_type": "markdown",
   "metadata": {},
   "source": [
    "$$\n",
    "\\hat{\\boldsymbol{\\beta}}^{\\mathrm{OLS}}=\\left(\\boldsymbol{X}^T\\boldsymbol{X}\\right)^{-1}\\boldsymbol{X}^T\\boldsymbol{y}!\n",
    "$$"
   ]
  },
  {
   "cell_type": "markdown",
   "metadata": {},
   "source": [
    "Before we make a similar analysis for Ridge and Lasso regression, we need a short reminder on statistics. \n",
    "\n",
    "## More basic Statistics and Bayes' theorem\n",
    "\n",
    "A central theorem in statistics is Bayes' theorem. This theorem plays a similar role as the good old Pythagoras' theorem in geometry.\n",
    "Bayes' theorem is extremely simple to derive. But to do so we need some basic axioms from statistics.\n",
    "\n",
    "Assume we have two domains of events $X=[x_0,x_1,\\dots,x_{n-1}]$ and $Y=[y_0,y_1,\\dots,y_{n-1}]$.\n",
    "\n",
    "We define also the likelihood for $X$ and $Y$ as $p(X)$ and $p(Y)$ respectively.\n",
    "The likelihood of a specific event $x_i$ (or $y_i$) is then written as $p(X=x_i)$ or just $p(x_i)=p_i$. \n",
    "\n",
    "**Union of events is given by.**"
   ]
  },
  {
   "cell_type": "markdown",
   "metadata": {},
   "source": [
    "$$\n",
    "p(X \\cup Y)= p(X)+p(Y)-p(X \\cap Y).\n",
    "$$"
   ]
  },
  {
   "cell_type": "markdown",
   "metadata": {},
   "source": [
    "**The product rule (aka joint probability) is given by.**"
   ]
  },
  {
   "cell_type": "markdown",
   "metadata": {},
   "source": [
    "$$\n",
    "p(X \\cup Y)= p(X,Y)= p(X\\vert Y)p(Y)=p(Y\\vert X)p(X),\n",
    "$$"
   ]
  },
  {
   "cell_type": "markdown",
   "metadata": {},
   "source": [
    "where we read $p(X\\vert Y)$ as the likelihood of obtaining $X$ given $Y$.\n",
    "\n",
    "\n",
    "\n",
    "If we have independent events then $p(X,Y)=p(X)p(Y)$.\n",
    "\n",
    "\n",
    "## Marginal Probability\n",
    "\n",
    "The marginal probability is defined in terms of only one of the set of variables $X,Y$. For a discrete probability we have"
   ]
  },
  {
   "cell_type": "markdown",
   "metadata": {},
   "source": [
    "$$\n",
    "p(X)=\\sum_{i=0}^{n-1}p(X,Y=y_i)=\\sum_{i=0}^{n-1}p(X\\vert Y=y_i)p(Y=y_i)=\\sum_{i=0}^{n-1}p(X\\vert y_i)p(y_i).\n",
    "$$"
   ]
  },
  {
   "cell_type": "markdown",
   "metadata": {},
   "source": [
    "## Conditional  Probability\n",
    "\n",
    "The conditional  probability, if $p(Y) > 0$, is"
   ]
  },
  {
   "cell_type": "markdown",
   "metadata": {},
   "source": [
    "$$\n",
    "p(X\\vert Y)= \\frac{p(X,Y)}{p(Y)}=\\frac{p(X,Y)}{\\sum_{i=0}^{n-1}p(Y\\vert X=x_i)p(x_i)}.\n",
    "$$"
   ]
  },
  {
   "cell_type": "markdown",
   "metadata": {},
   "source": [
    "## Bayes' Theorem\n",
    "\n",
    "If we combine the conditional probability with the marginal probability and the standard product rule, we have"
   ]
  },
  {
   "cell_type": "markdown",
   "metadata": {},
   "source": [
    "$$\n",
    "p(X\\vert Y)= \\frac{p(X,Y)}{p(Y)},\n",
    "$$"
   ]
  },
  {
   "cell_type": "markdown",
   "metadata": {},
   "source": [
    "which we can rewrite as"
   ]
  },
  {
   "cell_type": "markdown",
   "metadata": {},
   "source": [
    "$$\n",
    "p(X\\vert Y)= \\frac{p(X,Y)}{\\sum_{i=0}^{n-1}p(Y\\vert X=x_i)p(x_i)}=\\frac{p(Y\\vert X)p(X)}{\\sum_{i=0}^{n-1}p(Y\\vert X=x_i)p(x_i)},\n",
    "$$"
   ]
  },
  {
   "cell_type": "markdown",
   "metadata": {},
   "source": [
    "which is Bayes' theorem. It allows us to evaluate the uncertainty in in $X$ after we have observed $Y$. We can easily interchange $X$ with $Y$.  \n",
    "\n",
    "## Interpretations of Bayes' Theorem\n",
    "\n",
    "The quantity $p(Y\\vert X)$ on the right-hand side of the theorem is\n",
    "evaluated for the observed data $Y$ and can be viewed as a function of\n",
    "the parameter space represented by $X$. This function is not\n",
    "necesseraly normalized and is normally called the likelihood function.\n",
    "\n",
    "The function $p(X)$ on the right hand side is called the prior while the function on the left hand side is the called the posterior probability. The denominator on the right hand side serves as a normalization factor for the posterior distribution.\n",
    "\n",
    "Let us try to illustrate Bayes' theorem through an example.\n",
    "\n",
    "## Example of Usage of Bayes' theorem\n",
    "\n",
    "Let us suppose that you are undergoing a series of mammography scans in\n",
    "order to rule out possible breast cancer cases.  We define the\n",
    "sensitivity for a positive event by the variable $X$. It takes binary\n",
    "values with $X=1$ representing a positive event and $X=0$ being a\n",
    "negative event. We reserve $Y$ as a classification parameter for\n",
    "either a negative or a positive breast cancer confirmation. (Short note on wordings: positive here means having breast cancer, although none of us would consider this being a  positive thing).\n",
    "\n",
    "We let $Y=1$ represent the the case of having breast cancer and $Y=0$ as not.\n",
    "\n",
    "Let us assume that if you have breast cancer, the test will be positive with a probability of $0.8$, that is we have"
   ]
  },
  {
   "cell_type": "markdown",
   "metadata": {},
   "source": [
    "$$\n",
    "p(X=1\\vert Y=1) =0.8.\n",
    "$$"
   ]
  },
  {
   "cell_type": "markdown",
   "metadata": {},
   "source": [
    "This obviously sounds  scary since many would conclude that if the test is positive, there is a likelihood of $80\\%$ for having cancer.\n",
    "It is however not correct, as the following Bayesian analysis shows.\n",
    "\n",
    "## Doing it correctly\n",
    "\n",
    "If we look at various national surveys on breast cancer, the general likelihood of developing breast cancer is a very small number.\n",
    "Let us assume that the prior probability in the population as a whole is"
   ]
  },
  {
   "cell_type": "markdown",
   "metadata": {},
   "source": [
    "$$\n",
    "p(Y=1) =0.004.\n",
    "$$"
   ]
  },
  {
   "cell_type": "markdown",
   "metadata": {},
   "source": [
    "We need also to account for the fact that the test may produce a false positive result (false alarm). Let us here assume that we have"
   ]
  },
  {
   "cell_type": "markdown",
   "metadata": {},
   "source": [
    "$$\n",
    "p(X=1\\vert Y=0) =0.1.\n",
    "$$"
   ]
  },
  {
   "cell_type": "markdown",
   "metadata": {},
   "source": [
    "Using Bayes' theorem we can then find the posterior probability that the person has breast cancer in case of a positive test, that is we can compute"
   ]
  },
  {
   "cell_type": "markdown",
   "metadata": {},
   "source": [
    "$$\n",
    "p(Y=1\\vert X=1)=\\frac{p(X=1\\vert Y=1)p(Y=1)}{p(X=1\\vert Y=1)p(Y=1)+p(X=1\\vert Y=0)p(Y=0)}=\\frac{0.8\\times 0.004}{0.8\\times 0.004+0.1\\times 0.996}=0.031.\n",
    "$$"
   ]
  },
  {
   "cell_type": "markdown",
   "metadata": {},
   "source": [
    "That is, in case of a positive test, there is only a $3\\%$ chance of having breast cancer!\n",
    "\n",
    "\n",
    "## Bayes' Theorem and Ridge and Lasso Regression\n",
    "\n",
    "Hitherto we have discussed Ridge and Lasso regression in terms of a\n",
    "linear analysis. This may to many of you feel rather technical and\n",
    "perhaps not that intuitive. The question is whether we can develop a\n",
    "more intuitive way of understanding what Ridge and Lasso express.\n",
    "\n",
    "Before we proceed let us perform a Ridge, Lasso  and OLS analysis of a polynomial fit. \n",
    "\n",
    "## Test Function for what happens with OLS, Ridge and Lasso\n",
    "\n",
    "We will play around with a study of the values for the optimal\n",
    "parameters $\\boldsymbol{\\beta}$ using OLS, Ridge and Lasso regression.  For\n",
    "OLS, you will notice as function of the noise and polynomial degree,\n",
    "that the parameters $\\beta$ will fluctuate from order to order in the\n",
    "polynomial fit and that for larger and larger polynomial degrees of freedom, the parameters will tend to increase in value for OLS.\n",
    "\n",
    "For Ridge and Lasso regression, the higher order parameters will typically be reduced, providing thereby less fluctuations from one order to another one."
   ]
  },
  {
   "cell_type": "code",
   "execution_count": 3,
   "metadata": {},
   "outputs": [
    {
     "name": "stdout",
     "output_type": "stream",
     "text": [
      "[ 1.0551561   0.3261648  -1.5045006   0.96681692  0.        ]\n",
      "Test MSE OLS\n",
      "1.0880201587033416\n",
      "0.001 [ 1.05521946  0.32543048 -1.50271333  0.96564741  0.        ]\n",
      "0.001 [ 1.08789162 -0.20393207 -0.08625442 -0.          0.        ]\n",
      "0.021544346900318832 [ 1.05648529  0.3107528  -1.4669818   0.94226382  0.        ]\n",
      "0.021544346900318832 [ 0.93739452 -0.         -0.         -0.          0.        ]\n",
      "0.46415888336127775 [ 1.0733274   0.11315341 -0.98375731  0.62524596  0.        ]\n",
      "0.46415888336127775 [0.49477999 0.         0.         0.         0.        ]\n",
      "10.0 [ 1.08717419 -0.16113467 -0.21270166  0.08452569  0.        ]\n",
      "10.0 [0. 0. 0. 0. 0.]\n"
     ]
    },
    {
     "data": {
      "image/png": "[encoded data removed]",
      "text/plain": [
       "<Figure size 432x288 with 1 Axes>"
      ]
     },
     "metadata": {
      "needs_background": "light"
     },
     "output_type": "display_data"
    }
   ],
   "source": [
    "import numpy as np\n",
    "import matplotlib.pyplot as plt\n",
    "from sklearn.model_selection import train_test_split\n",
    "from sklearn import linear_model\n",
    "\n",
    "def R2(y_data, y_model):\n",
    "    return 1 - np.sum((y_data - y_model) ** 2) / np.sum((y_data - np.mean(y_data)) ** 2)\n",
    "def MSE(y_data,y_model):\n",
    "    n = np.size(y_model)\n",
    "    return np.sum((y_data-y_model)**2)/n\n",
    "\n",
    "# Make data set.\n",
    "n = 10000\n",
    "x = np.random.rand(n)\n",
    "y = np.exp(-x**2) + 1.5 * np.exp(-(x-2)**2)+ np.random.randn(n)\n",
    "\n",
    "Maxpolydegree = 5\n",
    "X = np.zeros((len(x),Maxpolydegree))\n",
    "X[:,0] = 1.0\n",
    "\n",
    "for polydegree in range(1, Maxpolydegree):\n",
    "    for degree in range(polydegree):\n",
    "        X[:,degree] = x**(degree)\n",
    "\n",
    "\n",
    "# We split the data in test and training data\n",
    "X_train, X_test, y_train, y_test = train_test_split(X, y, test_size=0.2)\n",
    "\n",
    "# matrix inversion to find beta\n",
    "OLSbeta = np.linalg.pinv(X_train.T @ X_train) @ X_train.T @ y_train\n",
    "print(OLSbeta)\n",
    "ypredictOLS = X_test @ OLSbeta\n",
    "print(\"Test MSE OLS\")\n",
    "print(MSE(y_test,ypredictOLS))\n",
    "# Repeat now for Lasso and Ridge regression and various values of the regularization parameter using Scikit-Learn\n",
    "# Decide which values of lambda to use\n",
    "nlambdas = 4\n",
    "MSERidgePredict = np.zeros(nlambdas)\n",
    "MSELassoPredict = np.zeros(nlambdas)\n",
    "lambdas = np.logspace(-3, 1, nlambdas)\n",
    "for i in range(nlambdas):\n",
    "    lmb = lambdas[i]\n",
    "    # Make the fit using Ridge and Lasso\n",
    "    RegRidge = linear_model.Ridge(lmb,fit_intercept=False)\n",
    "    RegRidge.fit(X_train,y_train)\n",
    "    RegLasso = linear_model.Lasso(lmb,fit_intercept=False)\n",
    "    RegLasso.fit(X_train,y_train)\n",
    "    # and then make the prediction\n",
    "    ypredictRidge = RegRidge.predict(X_test)\n",
    "    ypredictLasso = RegLasso.predict(X_test)\n",
    "    # Compute the MSE and print it\n",
    "    MSERidgePredict[i] = MSE(y_test,ypredictRidge)\n",
    "    MSELassoPredict[i] = MSE(y_test,ypredictLasso)\n",
    "    print(lmb,RegRidge.coef_)\n",
    "    print(lmb,RegLasso.coef_)\n",
    "# Now plot the results\n",
    "plt.figure()\n",
    "plt.plot(np.log10(lambdas), MSERidgePredict, 'b', label = 'MSE Ridge Test')\n",
    "plt.plot(np.log10(lambdas), MSELassoPredict, 'r', label = 'MSE Lasso Test')\n",
    "plt.xlabel('log10(lambda)')\n",
    "plt.ylabel('MSE')\n",
    "plt.legend()\n",
    "plt.show()"
   ]
  },
  {
   "cell_type": "markdown",
   "metadata": {},
   "source": [
    "How can we understand this?  \n",
    "\n",
    "\n",
    "## Invoking Bayes' theorem\n",
    "\n",
    "Using Bayes' theorem we can gain a better intuition about Ridge and Lasso regression. \n",
    "\n",
    "For ordinary least squares we postulated that the maximum likelihood for the doamin of events $\\boldsymbol{D}$ (one-dimensional case)"
   ]
  },
  {
   "cell_type": "markdown",
   "metadata": {},
   "source": [
    "$$\n",
    "\\boldsymbol{D}=[(x_0,y_0), (x_1,y_1),\\dots, (x_{n-1},y_{n-1})],\n",
    "$$"
   ]
  },
  {
   "cell_type": "markdown",
   "metadata": {},
   "source": [
    "is given by"
   ]
  },
  {
   "cell_type": "markdown",
   "metadata": {},
   "source": [
    "$$\n",
    "p(\\boldsymbol{D}\\vert\\boldsymbol{\\beta})=\\prod_{i=0}^{n-1}\\frac{1}{\\sqrt{2\\pi\\sigma^2}}\\exp{\\left[-\\frac{(y_i-\\boldsymbol{X}_{i,*}\\boldsymbol{\\beta})^2}{2\\sigma^2}\\right]}.\n",
    "$$"
   ]
  },
  {
   "cell_type": "markdown",
   "metadata": {},
   "source": [
    "In Bayes' theorem this function plays the role of the so-called likelihood. We could now ask the question what is the posterior probability of a parameter set $\\boldsymbol{\\beta}$ given a domain of events $\\boldsymbol{D}$?  That is, how can we define the posterior probability"
   ]
  },
  {
   "cell_type": "markdown",
   "metadata": {},
   "source": [
    "$$\n",
    "p(\\boldsymbol{\\beta}\\vert\\boldsymbol{D}).\n",
    "$$"
   ]
  },
  {
   "cell_type": "markdown",
   "metadata": {},
   "source": [
    "Bayes' theorem comes to our rescue here since (omitting the normalization constant)"
   ]
  },
  {
   "cell_type": "markdown",
   "metadata": {},
   "source": [
    "$$\n",
    "p(\\boldsymbol{\\beta}\\vert\\boldsymbol{D})\\propto p(\\boldsymbol{D}\\vert\\boldsymbol{\\beta})p(\\boldsymbol{\\beta}).\n",
    "$$"
   ]
  },
  {
   "cell_type": "markdown",
   "metadata": {},
   "source": [
    "We have a model for $p(\\boldsymbol{D}\\vert\\boldsymbol{\\beta})$ but need one for the **prior** $p(\\boldsymbol{\\beta}$!   \n",
    "\n",
    "\n",
    "## Ridge and Bayes\n",
    "\n",
    "With the posterior probability defined by a likelihood which we have\n",
    "already modeled and an unknown prior, we are now ready to make\n",
    "additional models for the prior.\n",
    "\n",
    "We can, based on our discussions of the variance of $\\boldsymbol{\\beta}$ and the mean value, assume that the prior for the values $\\boldsymbol{\\beta}$ is given by a Gaussian with mean value zero and variance $\\tau^2$, that is"
   ]
  },
  {
   "cell_type": "markdown",
   "metadata": {},
   "source": [
    "$$\n",
    "p(\\boldsymbol{\\beta})=\\prod_{j=0}^{p-1}\\exp{\\left(-\\frac{\\beta_j^2}{2\\tau^2}\\right)}.\n",
    "$$"
   ]
  },
  {
   "cell_type": "markdown",
   "metadata": {},
   "source": [
    "Our posterior probability becomes then (omitting the normalization factor which is just a constant)"
   ]
  },
  {
   "cell_type": "markdown",
   "metadata": {},
   "source": [
    "$$\n",
    "p(\\boldsymbol{\\beta\\vert\\boldsymbol{D})}=\\prod_{i=0}^{n-1}\\frac{1}{\\sqrt{2\\pi\\sigma^2}}\\exp{\\left[-\\frac{(y_i-\\boldsymbol{X}_{i,*}\\boldsymbol{\\beta})^2}{2\\sigma^2}\\right]}\\prod_{j=0}^{p-1}\\exp{\\left(-\\frac{\\beta_j^2}{2\\tau^2}\\right)}.\n",
    "$$"
   ]
  },
  {
   "cell_type": "markdown",
   "metadata": {},
   "source": [
    "We can now optimize this quantity with respect to $\\boldsymbol{\\beta}$. As we\n",
    "did for OLS, this is most conveniently done by taking the negative\n",
    "logarithm of the posterior probability. Doing so and leaving out the\n",
    "constants terms that do not depend on $\\beta$, we have"
   ]
  },
  {
   "cell_type": "markdown",
   "metadata": {},
   "source": [
    "$$\n",
    "C(\\boldsymbol{\\beta})=\\frac{\\vert\\vert (\\boldsymbol{y}-\\boldsymbol{X}\\boldsymbol{\\beta})\\vert\\vert_2^2}{2\\sigma^2}+\\frac{1}{2\\tau^2}\\vert\\vert\\boldsymbol{\\beta}\\vert\\vert_2^2,\n",
    "$$"
   ]
  },
  {
   "cell_type": "markdown",
   "metadata": {},
   "source": [
    "and replacing $1/2\\tau^2$ with $\\lambda$ we have"
   ]
  },
  {
   "cell_type": "markdown",
   "metadata": {},
   "source": [
    "$$\n",
    "C(\\boldsymbol{\\beta})=\\frac{\\vert\\vert (\\boldsymbol{y}-\\boldsymbol{X}\\boldsymbol{\\beta})\\vert\\vert_2^2}{2\\sigma^2}+\\lambda\\vert\\vert\\boldsymbol{\\beta}\\vert\\vert_2^2,\n",
    "$$"
   ]
  },
  {
   "cell_type": "markdown",
   "metadata": {},
   "source": [
    "which is our Ridge cost function!  Nice, isn't it?\n",
    "\n",
    "## Lasso and Bayes\n",
    "\n",
    "To derive the Lasso cost function, we simply replace the Gaussian prior with an exponential distribution ([Laplace in this case](https://en.wikipedia.org/wiki/Laplace_distribution)) with zero mean value,  that is"
   ]
  },
  {
   "cell_type": "markdown",
   "metadata": {},
   "source": [
    "$$\n",
    "p(\\boldsymbol{\\beta})=\\prod_{j=0}^{p-1}\\exp{\\left(-\\frac{\\vert\\beta_j\\vert}{\\tau}\\right)}.\n",
    "$$"
   ]
  },
  {
   "cell_type": "markdown",
   "metadata": {},
   "source": [
    "Our posterior probability becomes then (omitting the normalization factor which is just a constant)"
   ]
  },
  {
   "cell_type": "markdown",
   "metadata": {},
   "source": [
    "$$\n",
    "p(\\boldsymbol{\\beta}\\vert\\boldsymbol{D})=\\prod_{i=0}^{n-1}\\frac{1}{\\sqrt{2\\pi\\sigma^2}}\\exp{\\left[-\\frac{(y_i-\\boldsymbol{X}_{i,*}\\boldsymbol{\\beta})^2}{2\\sigma^2}\\right]}\\prod_{j=0}^{p-1}\\exp{\\left(-\\frac{\\vert\\beta_j\\vert}{\\tau}\\right)}.\n",
    "$$"
   ]
  },
  {
   "cell_type": "markdown",
   "metadata": {},
   "source": [
    "Taking the negative\n",
    "logarithm of the posterior probability and leaving out the\n",
    "constants terms that do not depend on $\\beta$, we have"
   ]
  },
  {
   "cell_type": "markdown",
   "metadata": {},
   "source": [
    "$$\n",
    "C(\\boldsymbol{\\beta}=\\frac{\\vert\\vert (\\boldsymbol{y}-\\boldsymbol{X}\\boldsymbol{\\beta})\\vert\\vert_2^2}{2\\sigma^2}+\\frac{1}{\\tau}\\vert\\vert\\boldsymbol{\\beta}\\vert\\vert_1,\n",
    "$$"
   ]
  },
  {
   "cell_type": "markdown",
   "metadata": {},
   "source": [
    "and replacing $1/\\tau$ with $\\lambda$ we have"
   ]
  },
  {
   "cell_type": "markdown",
   "metadata": {},
   "source": [
    "$$\n",
    "C(\\boldsymbol{\\beta}=\\frac{\\vert\\vert (\\boldsymbol{y}-\\boldsymbol{X}\\boldsymbol{\\beta})\\vert\\vert_2^2}{2\\sigma^2}+\\lambda\\vert\\vert\\boldsymbol{\\beta}\\vert\\vert_1,\n",
    "$$"
   ]
  },
  {
   "cell_type": "markdown",
   "metadata": {},
   "source": [
    "which is our Lasso cost function!"
   ]
  }
 ],
 "metadata": {
  "kernelspec": {
   "display_name": "Python 3",
   "language": "python",
   "name": "python3"
  },
  "language_info": {
   "codemirror_mode": {
    "name": "ipython",
    "version": 3
   },
   "file_extension": ".py",
   "mimetype": "text/x-python",
   "name": "python",
   "nbconvert_exporter": "python",
   "pygments_lexer": "ipython3",
   "version": "3.8.3"
  }
 },
 "nbformat": 4,
 "nbformat_minor": 4
}
